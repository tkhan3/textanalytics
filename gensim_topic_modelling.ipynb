{
  "nbformat": 4,
  "nbformat_minor": 0,
  "metadata": {
    "colab": {
      "name": "gensim topic modelling.ipynb",
      "version": "0.3.2",
      "provenance": [],
      "include_colab_link": true
    },
    "kernelspec": {
      "name": "python3",
      "display_name": "Python 3"
    }
  },
  "cells": [
    {
      "cell_type": "markdown",
      "metadata": {
        "id": "view-in-github",
        "colab_type": "text"
      },
      "source": [
        "<a href=\"https://colab.research.google.com/github/tkhan3/textanalytics/blob/master/gensim_topic_modelling.ipynb\" target=\"_parent\"><img src=\"https://colab.research.google.com/assets/colab-badge.svg\" alt=\"Open In Colab\"/></a>"
      ]
    },
    {
      "metadata": {
        "id": "lsPFbDRV1xPA",
        "colab_type": "code",
        "outputId": "82bb7dbf-6840-4cca-8429-408e52d47871",
        "colab": {
          "base_uri": "https://localhost:8080/",
          "height": 836
        }
      },
      "cell_type": "code",
      "source": [
        "!apt-get install -y -qq software-properties-common python-software-properties module-init-tools\n",
        "!add-apt-repository -y ppa:alessandro-strada/ppa 2>&1 > /dev/null\n",
        "!apt-get update -qq 2>&1 > /dev/null\n",
        "!apt-get -y install -qq google-drive-ocamlfuse fuse\n",
        "from google.colab import auth\n",
        "auth.authenticate_user()\n",
        "from oauth2client.client import GoogleCredentials\n",
        "creds = GoogleCredentials.get_application_default()\n",
        "import getpass\n",
        "!google-drive-ocamlfuse -headless -id={creds.client_id} -secret={creds.client_secret} < /dev/null 2>&1 | grep URL\n",
        "vcode = getpass.getpass()\n",
        "!echo {vcode} | google-drive-ocamlfuse -headless -id={creds.client_id} -secret={creds.client_secret}\n",
        "#import pandas as pd\n",
        "!google-drive-ocamlfuse drive\n",
        "!apt-get -qq install -y graphviz && pip install -q pydot\n",
        "!pip3 install seaborn==0.9.0\n",
        "import pydot\n",
        "!mkdir -p drive\n",
        "!google-drive-ocamlfuse drive\n",
        "!pip install sklearn_pandas"
      ],
      "execution_count": 0,
      "outputs": [
        {
          "output_type": "stream",
          "text": [
            "E: Package 'python-software-properties' has no installation candidate\n",
            "Selecting previously unselected package google-drive-ocamlfuse.\n",
            "(Reading database ... 131322 files and directories currently installed.)\n",
            "Preparing to unpack .../google-drive-ocamlfuse_0.7.1-0ubuntu3~ubuntu18.04.1_amd64.deb ...\n",
            "Unpacking google-drive-ocamlfuse (0.7.1-0ubuntu3~ubuntu18.04.1) ...\n",
            "Setting up google-drive-ocamlfuse (0.7.1-0ubuntu3~ubuntu18.04.1) ...\n",
            "Processing triggers for man-db (2.8.3-2ubuntu0.1) ...\n",
            "Please, open the following URL in a web browser: https://accounts.google.com/o/oauth2/auth?client_id=32555940559.apps.googleusercontent.com&redirect_uri=urn%3Aietf%3Awg%3Aoauth%3A2.0%3Aoob&scope=https%3A%2F%2Fwww.googleapis.com%2Fauth%2Fdrive&response_type=code&access_type=offline&approval_prompt=force\n",
            "··········\n",
            "Please, open the following URL in a web browser: https://accounts.google.com/o/oauth2/auth?client_id=32555940559.apps.googleusercontent.com&redirect_uri=urn%3Aietf%3Awg%3Aoauth%3A2.0%3Aoob&scope=https%3A%2F%2Fwww.googleapis.com%2Fauth%2Fdrive&response_type=code&access_type=offline&approval_prompt=force\n",
            "Please enter the verification code: Access token retrieved correctly.\n",
            "Error: Mountpoint drive should be an existing directory.\n",
            "Collecting seaborn==0.9.0\n",
            "\u001b[?25l  Downloading https://files.pythonhosted.org/packages/a8/76/220ba4420459d9c4c9c9587c6ce607bf56c25b3d3d2de62056efe482dadc/seaborn-0.9.0-py3-none-any.whl (208kB)\n",
            "\u001b[K    100% |████████████████████████████████| 215kB 9.5MB/s \n",
            "\u001b[?25hRequirement already satisfied: matplotlib>=1.4.3 in /usr/local/lib/python3.6/dist-packages (from seaborn==0.9.0) (3.0.2)\n",
            "Requirement already satisfied: pandas>=0.15.2 in /usr/local/lib/python3.6/dist-packages (from seaborn==0.9.0) (0.22.0)\n",
            "Requirement already satisfied: numpy>=1.9.3 in /usr/local/lib/python3.6/dist-packages (from seaborn==0.9.0) (1.14.6)\n",
            "Requirement already satisfied: scipy>=0.14.0 in /usr/local/lib/python3.6/dist-packages (from seaborn==0.9.0) (1.1.0)\n",
            "Requirement already satisfied: cycler>=0.10 in /usr/local/lib/python3.6/dist-packages (from matplotlib>=1.4.3->seaborn==0.9.0) (0.10.0)\n",
            "Requirement already satisfied: pyparsing!=2.0.4,!=2.1.2,!=2.1.6,>=2.0.1 in /usr/local/lib/python3.6/dist-packages (from matplotlib>=1.4.3->seaborn==0.9.0) (2.3.1)\n",
            "Requirement already satisfied: python-dateutil>=2.1 in /usr/local/lib/python3.6/dist-packages (from matplotlib>=1.4.3->seaborn==0.9.0) (2.5.3)\n",
            "Requirement already satisfied: kiwisolver>=1.0.1 in /usr/local/lib/python3.6/dist-packages (from matplotlib>=1.4.3->seaborn==0.9.0) (1.0.1)\n",
            "Requirement already satisfied: pytz>=2011k in /usr/local/lib/python3.6/dist-packages (from pandas>=0.15.2->seaborn==0.9.0) (2018.9)\n",
            "Requirement already satisfied: six in /usr/local/lib/python3.6/dist-packages (from cycler>=0.10->matplotlib>=1.4.3->seaborn==0.9.0) (1.11.0)\n",
            "Requirement already satisfied: setuptools in /usr/local/lib/python3.6/dist-packages (from kiwisolver>=1.0.1->matplotlib>=1.4.3->seaborn==0.9.0) (40.8.0)\n",
            "Installing collected packages: seaborn\n",
            "  Found existing installation: seaborn 0.7.1\n",
            "    Uninstalling seaborn-0.7.1:\n",
            "      Successfully uninstalled seaborn-0.7.1\n",
            "Successfully installed seaborn-0.9.0\n"
          ],
          "name": "stdout"
        },
        {
          "output_type": "display_data",
          "data": {
            "application/vnd.colab-display-data+json": {
              "pip_warning": {
                "packages": [
                  "seaborn"
                ]
              }
            }
          },
          "metadata": {
            "tags": []
          }
        },
        {
          "output_type": "stream",
          "text": [
            "Collecting sklearn_pandas\n",
            "  Downloading https://files.pythonhosted.org/packages/1f/48/4e1461d828baf41d609efaa720d20090ac6ec346b5daad3c88e243e2207e/sklearn_pandas-1.8.0-py2.py3-none-any.whl\n",
            "Requirement already satisfied: numpy>=1.6.1 in /usr/local/lib/python3.6/dist-packages (from sklearn_pandas) (1.14.6)\n",
            "Requirement already satisfied: scikit-learn>=0.15.0 in /usr/local/lib/python3.6/dist-packages (from sklearn_pandas) (0.20.2)\n",
            "Requirement already satisfied: scipy>=0.14 in /usr/local/lib/python3.6/dist-packages (from sklearn_pandas) (1.1.0)\n",
            "Requirement already satisfied: pandas>=0.11.0 in /usr/local/lib/python3.6/dist-packages (from sklearn_pandas) (0.22.0)\n",
            "Requirement already satisfied: python-dateutil>=2 in /usr/local/lib/python3.6/dist-packages (from pandas>=0.11.0->sklearn_pandas) (2.5.3)\n",
            "Requirement already satisfied: pytz>=2011k in /usr/local/lib/python3.6/dist-packages (from pandas>=0.11.0->sklearn_pandas) (2018.9)\n",
            "Requirement already satisfied: six>=1.5 in /usr/local/lib/python3.6/dist-packages (from python-dateutil>=2->pandas>=0.11.0->sklearn_pandas) (1.11.0)\n",
            "Installing collected packages: sklearn-pandas\n",
            "Successfully installed sklearn-pandas-1.8.0\n"
          ],
          "name": "stdout"
        }
      ]
    },
    {
      "metadata": {
        "id": "D6Wva8Wl5Wng",
        "colab_type": "code",
        "colab": {}
      },
      "cell_type": "code",
      "source": [
        "import pandas as pd\n",
        "from datetime import datetime\n",
        "import seaborn as sns\n",
        "import os\n",
        "from os import chdir,listdir,path,getcwd\n",
        "from sys import argv,exit\n",
        "import pandas as pd\n",
        "import re\n",
        "#from mkl import *\n",
        "import numpy as np\n",
        "import pickle\n",
        "import datetime\n",
        "import timeit\n",
        "from collections import Counter\n",
        "from copy import deepcopy\n",
        "from math import floor,ceil\n",
        "from scipy.stats import gaussian_kde\n",
        "import os\n",
        "from sklearn.feature_extraction.text import TfidfVectorizer\n",
        "from sklearn.metrics import silhouette_samples,silhouette_score\n",
        "from sklearn.manifold import TSNE\n",
        "from sklearn.decomposition import TruncatedSVD\n",
        "from sklearn.cluster import KMeans\n",
        "from sklearn.metrics import silhouette_samples,silhouette_score\n",
        "import string"
      ],
      "execution_count": 0,
      "outputs": []
    },
    {
      "metadata": {
        "id": "91UtnRqV5aNN",
        "colab_type": "code",
        "outputId": "b778c69a-6493-4560-cb42-ee7d81f7eb03",
        "colab": {
          "base_uri": "https://localhost:8080/",
          "height": 34
        }
      },
      "cell_type": "code",
      "source": [
        "from keras.models import Model\n",
        "from keras.models import Sequential\n",
        "from keras.layers.core import Dense, Activation\n",
        "from keras.wrappers.scikit_learn import KerasClassifier\n",
        "from keras.layers import Dropout, Embedding, LSTM, MaxPooling1D, Flatten\n",
        "from keras.layers import Convolution1D, AveragePooling1D, Conv1D, Input, GlobalAveragePooling1D\n",
        "from keras.preprocessing.text import Tokenizer\n",
        "from keras.optimizers import Nadam, RMSprop\n",
        "from keras.utils.np_utils import to_categorical\n",
        "from keras.models import load_model"
      ],
      "execution_count": 0,
      "outputs": [
        {
          "output_type": "stream",
          "text": [
            "Using TensorFlow backend.\n"
          ],
          "name": "stderr"
        }
      ]
    },
    {
      "metadata": {
        "id": "CaJRc3aW5b-C",
        "colab_type": "code",
        "colab": {}
      },
      "cell_type": "code",
      "source": [
        "from keras.models import Model\n",
        "from keras.models import Sequential\n",
        "from keras.layers.core import Dense, Activation\n",
        "from keras.wrappers.scikit_learn import KerasClassifier\n",
        "from keras.layers import Dropout, Embedding, LSTM, MaxPooling1D, Flatten\n",
        "from keras.layers import Convolution1D, AveragePooling1D, Conv1D, Input, GlobalAveragePooling1D\n",
        "from keras.preprocessing.text import Tokenizer\n",
        "from keras.optimizers import Nadam, RMSprop\n",
        "from keras.utils.np_utils import to_categorical\n",
        "from keras.models import load_model"
      ],
      "execution_count": 0,
      "outputs": []
    },
    {
      "metadata": {
        "id": "M6hCwuF55d-q",
        "colab_type": "code",
        "colab": {}
      },
      "cell_type": "code",
      "source": [
        "from scipy.stats import gaussian_kde\n",
        "from statsmodels.nonparametric.kde import KDEUnivariate\n",
        "from sklearn.manifold import TSNE\n",
        "import colorsys"
      ],
      "execution_count": 0,
      "outputs": []
    },
    {
      "metadata": {
        "id": "yitrU_WU5jnC",
        "colab_type": "code",
        "colab": {}
      },
      "cell_type": "code",
      "source": [
        "import matplotlib.pyplot as plt\n",
        "import matplotlib.cm as cm\n",
        "import seaborn as sns\n",
        "import matplotlib.gridspec as gridspec\n",
        "import nltk"
      ],
      "execution_count": 0,
      "outputs": []
    },
    {
      "metadata": {
        "id": "CKxrMFwcB63z",
        "colab_type": "code",
        "outputId": "fde2a2da-1916-4325-cc5c-1711f9a75e7b",
        "colab": {
          "base_uri": "https://localhost:8080/",
          "height": 527
        }
      },
      "cell_type": "code",
      "source": [
        "!pip install pyLDAvis"
      ],
      "execution_count": 0,
      "outputs": [
        {
          "output_type": "stream",
          "text": [
            "Collecting pyLDAvis\n",
            "\u001b[?25l  Downloading https://files.pythonhosted.org/packages/a5/3a/af82e070a8a96e13217c8f362f9a73e82d61ac8fff3a2561946a97f96266/pyLDAvis-2.1.2.tar.gz (1.6MB)\n",
            "\u001b[K    100% |████████████████████████████████| 1.6MB 12.0MB/s \n",
            "\u001b[?25hRequirement already satisfied: wheel>=0.23.0 in /usr/local/lib/python3.6/dist-packages (from pyLDAvis) (0.33.1)\n",
            "Requirement already satisfied: numpy>=1.9.2 in /usr/local/lib/python3.6/dist-packages (from pyLDAvis) (1.14.6)\n",
            "Requirement already satisfied: scipy>=0.18.0 in /usr/local/lib/python3.6/dist-packages (from pyLDAvis) (1.1.0)\n",
            "Requirement already satisfied: pandas>=0.17.0 in /usr/local/lib/python3.6/dist-packages (from pyLDAvis) (0.22.0)\n",
            "Requirement already satisfied: joblib>=0.8.4 in /usr/local/lib/python3.6/dist-packages (from pyLDAvis) (0.13.2)\n",
            "Requirement already satisfied: jinja2>=2.7.2 in /usr/local/lib/python3.6/dist-packages (from pyLDAvis) (2.10)\n",
            "Requirement already satisfied: numexpr in /usr/local/lib/python3.6/dist-packages (from pyLDAvis) (2.6.9)\n",
            "Requirement already satisfied: pytest in /usr/local/lib/python3.6/dist-packages (from pyLDAvis) (3.10.1)\n",
            "Requirement already satisfied: future in /usr/local/lib/python3.6/dist-packages (from pyLDAvis) (0.16.0)\n",
            "Collecting funcy (from pyLDAvis)\n",
            "  Downloading https://files.pythonhosted.org/packages/47/a4/204fa23012e913839c2da4514b92f17da82bf5fc8c2c3d902fa3fa3c6eec/funcy-1.11-py2.py3-none-any.whl\n",
            "Requirement already satisfied: python-dateutil>=2 in /usr/local/lib/python3.6/dist-packages (from pandas>=0.17.0->pyLDAvis) (2.5.3)\n",
            "Requirement already satisfied: pytz>=2011k in /usr/local/lib/python3.6/dist-packages (from pandas>=0.17.0->pyLDAvis) (2018.9)\n",
            "Requirement already satisfied: MarkupSafe>=0.23 in /usr/local/lib/python3.6/dist-packages (from jinja2>=2.7.2->pyLDAvis) (1.1.1)\n",
            "Requirement already satisfied: attrs>=17.4.0 in /usr/local/lib/python3.6/dist-packages (from pytest->pyLDAvis) (18.2.0)\n",
            "Requirement already satisfied: pluggy>=0.7 in /usr/local/lib/python3.6/dist-packages (from pytest->pyLDAvis) (0.9.0)\n",
            "Requirement already satisfied: py>=1.5.0 in /usr/local/lib/python3.6/dist-packages (from pytest->pyLDAvis) (1.8.0)\n",
            "Requirement already satisfied: atomicwrites>=1.0 in /usr/local/lib/python3.6/dist-packages (from pytest->pyLDAvis) (1.3.0)\n",
            "Requirement already satisfied: setuptools in /usr/local/lib/python3.6/dist-packages (from pytest->pyLDAvis) (40.8.0)\n",
            "Requirement already satisfied: more-itertools>=4.0.0 in /usr/local/lib/python3.6/dist-packages (from pytest->pyLDAvis) (6.0.0)\n",
            "Requirement already satisfied: six>=1.10.0 in /usr/local/lib/python3.6/dist-packages (from pytest->pyLDAvis) (1.11.0)\n",
            "Building wheels for collected packages: pyLDAvis\n",
            "  Building wheel for pyLDAvis (setup.py) ... \u001b[?25ldone\n",
            "\u001b[?25h  Stored in directory: /root/.cache/pip/wheels/98/71/24/513a99e58bb6b8465bae4d2d5e9dba8f0bef8179e3051ac414\n",
            "Successfully built pyLDAvis\n",
            "Installing collected packages: funcy, pyLDAvis\n",
            "Successfully installed funcy-1.11 pyLDAvis-2.1.2\n"
          ],
          "name": "stdout"
        }
      ]
    },
    {
      "metadata": {
        "id": "6aMNzS645prQ",
        "colab_type": "code",
        "colab": {}
      },
      "cell_type": "code",
      "source": [
        "%matplotlib inline"
      ],
      "execution_count": 0,
      "outputs": []
    },
    {
      "metadata": {
        "id": "RUm_Yei05tAS",
        "colab_type": "code",
        "colab": {}
      },
      "cell_type": "code",
      "source": [
        "import gensim"
      ],
      "execution_count": 0,
      "outputs": []
    },
    {
      "metadata": {
        "id": "r14lNw0QBfLW",
        "colab_type": "code",
        "outputId": "eebc8cb4-6f1b-4a28-e7f4-0b105f7dfab2",
        "colab": {
          "base_uri": "https://localhost:8080/",
          "height": 207
        }
      },
      "cell_type": "code",
      "source": [
        "# Run in python console\n",
        "import nltk; nltk.download('stopwords')\n",
        "\n",
        "# Run in terminal or command prompt\n",
        "!python3 -m spacy download en"
      ],
      "execution_count": 0,
      "outputs": [
        {
          "output_type": "stream",
          "text": [
            "[nltk_data] Downloading package stopwords to /root/nltk_data...\n",
            "[nltk_data]   Unzipping corpora/stopwords.zip.\n",
            "Requirement already satisfied: en_core_web_sm==2.0.0 from https://github.com/explosion/spacy-models/releases/download/en_core_web_sm-2.0.0/en_core_web_sm-2.0.0.tar.gz#egg=en_core_web_sm==2.0.0 in /usr/local/lib/python3.6/dist-packages (2.0.0)\n",
            "\n",
            "\u001b[93m    Linking successful\u001b[0m\n",
            "    /usr/local/lib/python3.6/dist-packages/en_core_web_sm -->\n",
            "    /usr/local/lib/python3.6/dist-packages/spacy/data/en\n",
            "\n",
            "    You can now load the model via spacy.load('en')\n",
            "\n"
          ],
          "name": "stdout"
        }
      ]
    },
    {
      "metadata": {
        "id": "Uzz1Mh-dBk6n",
        "colab_type": "code",
        "colab": {}
      },
      "cell_type": "code",
      "source": [
        "import re\n",
        "import numpy as np\n",
        "import pandas as pd\n",
        "from pprint import pprint\n",
        "\n",
        "# Gensim\n",
        "import gensim\n",
        "import gensim.corpora as corpora\n",
        "from gensim.utils import simple_preprocess\n",
        "from gensim.models import CoherenceModel\n",
        "\n",
        "# spacy for lemmatization\n",
        "import spacy\n",
        "\n",
        "# Plotting tools\n",
        "import pyLDAvis\n",
        "import pyLDAvis.gensim  # don't skip this\n",
        "import matplotlib.pyplot as plt\n",
        "%matplotlib inline\n",
        "\n",
        "# Enable logging for gensim - optional\n",
        "import logging\n",
        "logging.basicConfig(format='%(asctime)s : %(levelname)s : %(message)s', level=logging.ERROR)\n",
        "\n",
        "import warnings\n",
        "warnings.filterwarnings(\"ignore\",category=DeprecationWarning)"
      ],
      "execution_count": 0,
      "outputs": []
    },
    {
      "metadata": {
        "id": "2252zo8qCA7L",
        "colab_type": "code",
        "colab": {}
      },
      "cell_type": "code",
      "source": [
        "# NLTK Stop words\n",
        "from nltk.corpus import stopwords\n",
        "stop_words = stopwords.words('english')\n",
        "#stop_words.extend(['from', 'subject', 're', 'edu', 'use'])"
      ],
      "execution_count": 0,
      "outputs": []
    },
    {
      "metadata": {
        "id": "dj5ERYZHCIBF",
        "colab_type": "code",
        "colab": {}
      },
      "cell_type": "code",
      "source": [
        "def clean_up(rec):\n",
        "  table = str.maketrans({key: None for key in string.punctuation})\n",
        "  rec = str(rec)\n",
        "  rec = rec.replace('\\\\n','').replace('\\\\r','')\n",
        "  rec = re.sub(r'[^a-zA-Z0-9\\.,;?<>/ ]',r'',rec)\n",
        "  #rec = re.sub(r'\\w*\\d\\w*', '', rec)\n",
        "  rec = rec.strip()\n",
        "  rec = re.sub(' +', ' ',rec)\n",
        "  rec = rec.translate(table)\n",
        "  rec = rec.lower()\n",
        "  return rec"
      ],
      "execution_count": 0,
      "outputs": []
    },
    {
      "metadata": {
        "id": "-O49ObD9CUcI",
        "colab_type": "code",
        "colab": {}
      },
      "cell_type": "code",
      "source": [
        "import os\n",
        "drive_path = 'drive/DL_COLAB/'\n",
        "\n",
        "TICKET_ANALYTICS_PATH = os.path.join(drive_path,\"text_analytics\",\"ticket_analysis\")\n",
        "\n",
        "def load_ticket_data(filename, file_path=TICKET_ANALYTICS_PATH):\n",
        "    csv_path = os.path.join(file_path, filename)\n",
        "    return pd.read_csv(csv_path,sep=\",\")"
      ],
      "execution_count": 0,
      "outputs": []
    },
    {
      "metadata": {
        "id": "88Bd7dfjCVuK",
        "colab_type": "code",
        "colab": {}
      },
      "cell_type": "code",
      "source": [
        "ticket_data_full = load_ticket_data(\"Telco_Apr-2016.csv\",TICKET_ANALYTICS_PATH)"
      ],
      "execution_count": 0,
      "outputs": []
    },
    {
      "metadata": {
        "id": "7eXMaepwCZuq",
        "colab_type": "code",
        "colab": {}
      },
      "cell_type": "code",
      "source": [
        "FIELDS = [\"Defect ID\",\"Title\",\"Problem Details\",\"Resolution Details\",\"Root Cause\"]"
      ],
      "execution_count": 0,
      "outputs": []
    },
    {
      "metadata": {
        "id": "cxw-44dsCb9N",
        "colab_type": "code",
        "colab": {}
      },
      "cell_type": "code",
      "source": [
        "ticket_data = ticket_data_full[FIELDS]"
      ],
      "execution_count": 0,
      "outputs": []
    },
    {
      "metadata": {
        "id": "TOgc78xwCdEE",
        "colab_type": "code",
        "colab": {}
      },
      "cell_type": "code",
      "source": [
        "problem_desc_list = ticket_data[['Problem Details']].values.tolist()"
      ],
      "execution_count": 0,
      "outputs": []
    },
    {
      "metadata": {
        "id": "yJWIBeW6Cfjr",
        "colab_type": "code",
        "colab": {}
      },
      "cell_type": "code",
      "source": [
        "problem_desc_cleanned = [clean_up(item) for item in problem_desc_list]"
      ],
      "execution_count": 0,
      "outputs": []
    },
    {
      "metadata": {
        "id": "kolm0tElCiYn",
        "colab_type": "code",
        "outputId": "fbcf149c-944b-4e40-b6b8-8aa3d66f17f1",
        "colab": {
          "base_uri": "https://localhost:8080/",
          "height": 190
        }
      },
      "cell_type": "code",
      "source": [
        "problem_desc_cleanned[1:10]"
      ],
      "execution_count": 0,
      "outputs": [
        {
          "output_type": "execute_result",
          "data": {
            "text/plain": [
              "['reason and sub reason section not updated under auc004 and auc005 in dbrd v007',\n",
              " 'no functional requirements for auc003 dealer changes number of bulk receivers ba will add frs related to auc003',\n",
              " 'no functional requirements for auc005 dealer places upgrade order ba added frs covering auc005',\n",
              " 'should be automatically defaulting to all included when it is just going to general market right now',\n",
              " 'auc covering migration of properties to bulk is missing there are two functional requirements present but no auc ba listed them under deployment option after several discussions ba was convinced to add auc for that purpose',\n",
              " 'no auc nor functional requirements separation for fulfillment and nonfulfillment dealer activations ba agreed to add auc for nonfulfillment and fulfillment dealer receiver activation dws is uded to activate nonfulfillment fstp riocc and ivr are used for fulfillment dealer activations',\n",
              " 'confirmation letter codes not updated in cor v200',\n",
              " 'when attempting to upgrade the customer receive an error stating unable to generate offers request and am not able to view or move forward on processing upgrade account 71918880',\n",
              " 'warranty out offers are showing for the accounts with receiver activation date of more than 365 days source system transaction id 71844360005a0000004jpez031720161430009686278961x03ptqyd5wec']"
            ]
          },
          "metadata": {
            "tags": []
          },
          "execution_count": 20
        }
      ]
    },
    {
      "metadata": {
        "id": "eMBL-helCyMu",
        "colab_type": "code",
        "colab": {}
      },
      "cell_type": "code",
      "source": [
        "problem_desc_cleanned_df = pd.DataFrame(problem_desc_cleanned,columns=['Problem Details'])"
      ],
      "execution_count": 0,
      "outputs": []
    },
    {
      "metadata": {
        "id": "ykG_cnz0Ds8s",
        "colab_type": "code",
        "colab": {}
      },
      "cell_type": "code",
      "source": [
        "#complete_text = ''.join(problem_desc_cleanned)"
      ],
      "execution_count": 0,
      "outputs": []
    },
    {
      "metadata": {
        "id": "P4renxvUDxgb",
        "colab_type": "code",
        "outputId": "7a82e51f-608b-4b22-c6e5-0d49fe54245f",
        "colab": {
          "base_uri": "https://localhost:8080/",
          "height": 68
        }
      },
      "cell_type": "code",
      "source": [
        "nltk.download('punkt')"
      ],
      "execution_count": 0,
      "outputs": [
        {
          "output_type": "stream",
          "text": [
            "[nltk_data] Downloading package punkt to /root/nltk_data...\n",
            "[nltk_data]   Unzipping tokenizers/punkt.zip.\n"
          ],
          "name": "stdout"
        },
        {
          "output_type": "execute_result",
          "data": {
            "text/plain": [
              "True"
            ]
          },
          "metadata": {
            "tags": []
          },
          "execution_count": 22
        }
      ]
    },
    {
      "metadata": {
        "id": "vK6C90XPDXJk",
        "colab_type": "code",
        "colab": {}
      },
      "cell_type": "code",
      "source": [
        "#words = nltk.tokenize.word_tokenize(complete_text)\n",
        "words_list = list()\n",
        "for rec in problem_desc_cleanned:\n",
        "  words = nltk.tokenize.word_tokenize(rec)\n",
        "  words_list.append(words)\n",
        "#for rec in problem_desc_cleanned\n",
        "#words_list = nltk.tokenize.word_tokenize(problem_desc_cleanned)"
      ],
      "execution_count": 0,
      "outputs": []
    },
    {
      "metadata": {
        "id": "O3oOzOBZM7ni",
        "colab_type": "code",
        "outputId": "095baa5d-8f9a-4c94-fa54-daf378047e44",
        "colab": {
          "base_uri": "https://localhost:8080/",
          "height": 357
        }
      },
      "cell_type": "code",
      "source": [
        "words_list[:1]"
      ],
      "execution_count": 0,
      "outputs": [
        {
          "output_type": "execute_result",
          "data": {
            "text/plain": [
              "[['step',\n",
              "  '3',\n",
              "  'is',\n",
              "  'the',\n",
              "  'same',\n",
              "  'between',\n",
              "  'auc002',\n",
              "  'and',\n",
              "  'auc003',\n",
              "  'it',\n",
              "  'has',\n",
              "  'to',\n",
              "  'be',\n",
              "  'eliminated',\n",
              "  'from',\n",
              "  'auc003',\n",
              "  'nba',\n",
              "  'agreed',\n",
              "  'to',\n",
              "  'remove']]"
            ]
          },
          "metadata": {
            "tags": []
          },
          "execution_count": 24
        }
      ]
    },
    {
      "metadata": {
        "id": "qKDSL3_6C0I_",
        "colab_type": "code",
        "colab": {}
      },
      "cell_type": "code",
      "source": [
        "#from nltk.corpus import stopwords\n",
        "#stop = set(stopwords.words('english'))\n",
        "#clean_word = [word for word in words if word not in stop]"
      ],
      "execution_count": 0,
      "outputs": []
    },
    {
      "metadata": {
        "id": "MXDnk3vsD40J",
        "colab_type": "code",
        "colab": {}
      },
      "cell_type": "code",
      "source": [
        "bigram = gensim.models.Phrases(words_list, min_count=4, threshold=100) "
      ],
      "execution_count": 0,
      "outputs": []
    },
    {
      "metadata": {
        "id": "QUGen9ewEGO8",
        "colab_type": "code",
        "outputId": "f62b0246-6edf-4b01-8a92-c68a27853903",
        "colab": {
          "base_uri": "https://localhost:8080/",
          "height": 51
        }
      },
      "cell_type": "code",
      "source": [
        "trigram = gensim.models.Phrases(bigram[words_list], threshold=100)"
      ],
      "execution_count": 0,
      "outputs": [
        {
          "output_type": "stream",
          "text": [
            "/usr/local/lib/python3.6/dist-packages/gensim/models/phrases.py:598: UserWarning: For a faster implementation, use the gensim.models.phrases.Phraser class\n",
            "  warnings.warn(\"For a faster implementation, use the gensim.models.phrases.Phraser class\")\n"
          ],
          "name": "stderr"
        }
      ]
    },
    {
      "metadata": {
        "id": "QgFKxwJqEc25",
        "colab_type": "code",
        "colab": {}
      },
      "cell_type": "code",
      "source": [
        "# Faster way to get a sentence clubbed as a trigram/bigram\n",
        "bigram_mod = gensim.models.phrases.Phraser(bigram)\n",
        "trigram_mod = gensim.models.phrases.Phraser(trigram)"
      ],
      "execution_count": 0,
      "outputs": []
    },
    {
      "metadata": {
        "id": "CD51SxWqF6ZQ",
        "colab_type": "code",
        "colab": {}
      },
      "cell_type": "code",
      "source": [
        "# Define functions for stopwords, bigrams, trigrams and lemmatization\n",
        "def remove_stopwords(texts):\n",
        "    return [[word for word in simple_preprocess(str(doc)) if word not in stop_words] for doc in texts]\n",
        "\n",
        "def make_bigrams(texts):\n",
        "    return [bigram_mod[doc] for doc in texts]\n",
        "\n",
        "def make_trigrams(texts):\n",
        "    return [trigram_mod[bigram_mod[doc]] for doc in texts]\n",
        "\n",
        "def lemmatization(texts, allowed_postags=['NOUN', 'ADJ', 'VERB', 'ADV']):\n",
        "    \"\"\"https://spacy.io/api/annotation\"\"\"\n",
        "    texts_out = []\n",
        "    for sent in texts:\n",
        "        doc = nlp(\" \".join(sent)) \n",
        "        texts_out.append([token.lemma_ for token in doc if token.pos_ in allowed_postags])\n",
        "    return texts_out"
      ],
      "execution_count": 0,
      "outputs": []
    },
    {
      "metadata": {
        "id": "5UJ4eDb2F7f6",
        "colab_type": "code",
        "outputId": "3eef9df5-fafc-44c4-af1b-a647d1e8dfad",
        "colab": {
          "base_uri": "https://localhost:8080/",
          "height": 34
        }
      },
      "cell_type": "code",
      "source": [
        "# Remove Stop Words\n",
        "data_words_nostops = remove_stopwords(words_list)\n",
        "\n",
        "# Form Bigrams\n",
        "data_words_bigrams = make_bigrams(data_words_nostops)\n",
        "\n",
        "# Initialize spacy 'en' model, keeping only tagger component (for efficiency)\n",
        "# python3 -m spacy download en\n",
        "nlp = spacy.load('en', disable=['parser', 'ner'])\n",
        "\n",
        "# Do lemmatization keeping only noun, adj, vb, adv\n",
        "data_lemmatized = lemmatization(data_words_bigrams, allowed_postags=['NOUN', 'ADJ', 'VERB', 'ADV'])\n",
        "\n",
        "print(data_lemmatized[:1])"
      ],
      "execution_count": 0,
      "outputs": [
        {
          "output_type": "stream",
          "text": [
            "[['step', 'auc', 'eliminate', 'nba', 'agree', 'remove']]\n"
          ],
          "name": "stdout"
        }
      ]
    },
    {
      "metadata": {
        "id": "Y8UEATcCGCLc",
        "colab_type": "code",
        "outputId": "426ccc0c-cd76-4df1-a4f8-ecafd923a486",
        "colab": {
          "base_uri": "https://localhost:8080/",
          "height": 34
        }
      },
      "cell_type": "code",
      "source": [
        "# Create Dictionary\n",
        "id2word = corpora.Dictionary(data_lemmatized)\n",
        "\n",
        "# Create Corpus\n",
        "texts = data_lemmatized\n",
        "\n",
        "# Term Document Frequency\n",
        "corpus = [id2word.doc2bow(text) for text in texts]\n",
        "\n",
        "# View\n",
        "print(corpus[:1])"
      ],
      "execution_count": 0,
      "outputs": [
        {
          "output_type": "stream",
          "text": [
            "[[(0, 1), (1, 1), (2, 1), (3, 1), (4, 1), (5, 1)]]\n"
          ],
          "name": "stdout"
        }
      ]
    },
    {
      "metadata": {
        "id": "xw5uug5mGrwk",
        "colab_type": "code",
        "outputId": "73809fc2-c6ce-4cb3-ebfe-289c59e3b1d1",
        "colab": {
          "base_uri": "https://localhost:8080/",
          "height": 34
        }
      },
      "cell_type": "code",
      "source": [
        "id2word[0]"
      ],
      "execution_count": 0,
      "outputs": [
        {
          "output_type": "execute_result",
          "data": {
            "text/plain": [
              "'agree'"
            ]
          },
          "metadata": {
            "tags": []
          },
          "execution_count": 32
        }
      ]
    },
    {
      "metadata": {
        "id": "lc39Kx9lGvK7",
        "colab_type": "code",
        "colab": {}
      },
      "cell_type": "code",
      "source": [
        "# Build LDA model\n",
        "lda_model = gensim.models.ldamodel.LdaModel(corpus=corpus,\n",
        "                                           id2word=id2word,\n",
        "                                           num_topics=5, \n",
        "                                           random_state=100,\n",
        "                                           update_every=1,\n",
        "                                           chunksize=100,\n",
        "                                           passes=10,\n",
        "                                           alpha='auto',\n",
        "                                           per_word_topics=True)"
      ],
      "execution_count": 0,
      "outputs": []
    },
    {
      "metadata": {
        "id": "6oH3mOj2G1Ng",
        "colab_type": "code",
        "outputId": "b288e541-782e-4656-8136-bcfe8fc2e663",
        "colab": {
          "base_uri": "https://localhost:8080/",
          "height": 357
        }
      },
      "cell_type": "code",
      "source": [
        "# Print the Keyword in the 10 topics\n",
        "pprint(lda_model.print_topics())\n",
        "doc_lda = lda_model[corpus]"
      ],
      "execution_count": 0,
      "outputs": [
        {
          "output_type": "stream",
          "text": [
            "[(0,\n",
            "  '0.045*\"offer\" + 0.032*\"intent\" + 0.031*\"call\" + 0.027*\"group\" + '\n",
            "  '0.023*\"click\" + 0.022*\"display\" + 0.021*\"rio\" + 0.020*\"result\" + '\n",
            "  '0.018*\"accept\" + 0.017*\"section\"'),\n",
            " (1,\n",
            "  '0.033*\"error\" + 0.021*\"message\" + 0.019*\"activation\" + 0.018*\"issue\" + '\n",
            "  '0.018*\"datum\" + 0.015*\"new\" + 0.015*\"order\" + 0.015*\"result\" + '\n",
            "  '0.015*\"activate\" + 0.014*\"step\"'),\n",
            " (2,\n",
            "  '0.032*\"request\" + 0.025*\"response\" + 0.020*\"success\" + 0.018*\"service\" + '\n",
            "  '0.016*\"get\" + 0.015*\"name\" + 0.013*\"value\" + 0.012*\"call\" + 0.012*\"rank\" + '\n",
            "  '0.012*\"code\"'),\n",
            " (3,\n",
            "  '0.049*\"would\" + 0.024*\"datum\" + 0.022*\"account\" + 0.018*\"test\" + '\n",
            "  '0.014*\"shopping_cart\" + 0.013*\"session\" + 0.013*\"offer\" + '\n",
            "  '0.012*\"application\" + 0.012*\"net\" + 0.010*\"launch\"'),\n",
            " (4,\n",
            "  '0.044*\"account\" + 0.041*\"order\" + 0.039*\"genie\" + 0.026*\"offer\" + '\n",
            "  '0.021*\"select\" + 0.017*\"customer\" + 0.017*\"mini\" + 0.017*\"click\" + '\n",
            "  '0.013*\"test\" + 0.013*\"upgrade\"')]\n"
          ],
          "name": "stdout"
        }
      ]
    },
    {
      "metadata": {
        "id": "vwqxoFNe2MTA",
        "colab_type": "code",
        "colab": {}
      },
      "cell_type": "code",
      "source": [
        "topics_matrix = lda_model.show_topics(formatted=False, num_words=20)"
      ],
      "execution_count": 0,
      "outputs": []
    },
    {
      "metadata": {
        "id": "bjvzBGdH2nWl",
        "colab_type": "code",
        "outputId": "5bf17487-66aa-42fa-f598-42ffb12f2e19",
        "colab": {
          "base_uri": "https://localhost:8080/",
          "height": 357
        }
      },
      "cell_type": "code",
      "source": [
        ""
      ],
      "execution_count": 0,
      "outputs": [
        {
          "output_type": "execute_result",
          "data": {
            "text/plain": [
              "([('offer', 0.045314483),\n",
              "  ('intent', 0.032199714),\n",
              "  ('call', 0.030853383),\n",
              "  ('group', 0.027038556),\n",
              "  ('click', 0.023086326),\n",
              "  ('display', 0.021538464),\n",
              "  ('rio', 0.021144511),\n",
              "  ('result', 0.019715236),\n",
              "  ('accept', 0.017857285),\n",
              "  ('section', 0.017460903),\n",
              "  ('search', 0.01637668),\n",
              "  ('button', 0.015389647),\n",
              "  ('select', 0.014575066),\n",
              "  ('expect', 0.013863151),\n",
              "  ('account', 0.0135541335),\n",
              "  ('system', 0.012338369),\n",
              "  ('proposition', 0.012251184),\n",
              "  ('step', 0.011797346),\n",
              "  ('actual', 0.010145933),\n",
              "  ('member', 0.009994031)],)"
            ]
          },
          "metadata": {
            "tags": []
          },
          "execution_count": 58
        }
      ]
    },
    {
      "metadata": {
        "id": "tnW9-dQS26cI",
        "colab_type": "code",
        "colab": {}
      },
      "cell_type": "code",
      "source": [
        ""
      ],
      "execution_count": 0,
      "outputs": []
    },
    {
      "metadata": {
        "id": "L5A3F5MjG99n",
        "colab_type": "code",
        "outputId": "6e639e10-7718-4ab9-fb28-7543cc6905ff",
        "colab": {
          "base_uri": "https://localhost:8080/",
          "height": 861
        }
      },
      "cell_type": "code",
      "source": [
        "# Visualize the topics\n",
        "pyLDAvis.enable_notebook()\n",
        "vis = pyLDAvis.gensim.prepare(lda_model, corpus, id2word)\n",
        "vis"
      ],
      "execution_count": 0,
      "outputs": [
        {
          "output_type": "execute_result",
          "data": {
            "text/html": [
              "\n",
              "<link rel=\"stylesheet\" type=\"text/css\" href=\"https://cdn.rawgit.com/bmabey/pyLDAvis/files/ldavis.v1.0.0.css\">\n",
              "\n",
              "\n",
              "<div id=\"ldavis_el1431401538709436003049029466\"></div>\n",
              "<script type=\"text/javascript\">\n",
              "\n",
              "var ldavis_el1431401538709436003049029466_data = {\"mdsDat\": {\"Freq\": [31.376615524291992, 26.662700653076172, 17.91593360900879, 13.582479476928711, 10.462268829345703], \"cluster\": [1, 1, 1, 1, 1], \"topics\": [1, 2, 3, 4, 5], \"x\": [-0.17234727735794605, -0.06812848810094925, -0.07100433628921149, -0.007207789821137933, 0.31868789156924465], \"y\": [0.058812805763806396, -0.20413180431758415, 0.1897073891799337, -0.07316797056238505, 0.028779579936228972]}, \"tinfo\": {\"Category\": [\"Default\", \"Default\", \"Default\", \"Default\", \"Default\", \"Default\", \"Default\", \"Default\", \"Default\", \"Default\", \"Default\", \"Default\", \"Default\", \"Default\", \"Default\", \"Default\", \"Default\", \"Default\", \"Default\", \"Default\", \"Default\", \"Default\", \"Default\", \"Default\", \"Default\", \"Default\", \"Default\", \"Default\", \"Default\", \"Default\", \"Topic1\", \"Topic1\", \"Topic1\", \"Topic1\", \"Topic1\", \"Topic1\", \"Topic1\", \"Topic1\", \"Topic1\", \"Topic1\", \"Topic1\", \"Topic1\", \"Topic1\", \"Topic1\", \"Topic1\", \"Topic1\", \"Topic1\", \"Topic1\", \"Topic1\", \"Topic1\", \"Topic1\", \"Topic1\", \"Topic1\", \"Topic1\", \"Topic1\", \"Topic1\", \"Topic1\", \"Topic1\", \"Topic1\", \"Topic1\", \"Topic1\", \"Topic1\", \"Topic1\", \"Topic1\", \"Topic1\", \"Topic1\", \"Topic1\", \"Topic1\", \"Topic1\", \"Topic1\", \"Topic1\", \"Topic1\", \"Topic1\", \"Topic1\", \"Topic1\", \"Topic1\", \"Topic1\", \"Topic1\", \"Topic1\", \"Topic1\", \"Topic1\", \"Topic1\", \"Topic1\", \"Topic1\", \"Topic1\", \"Topic1\", \"Topic1\", \"Topic1\", \"Topic1\", \"Topic1\", \"Topic1\", \"Topic2\", \"Topic2\", \"Topic2\", \"Topic2\", \"Topic2\", \"Topic2\", \"Topic2\", \"Topic2\", \"Topic2\", \"Topic2\", \"Topic2\", \"Topic2\", \"Topic2\", \"Topic2\", \"Topic2\", \"Topic2\", \"Topic2\", \"Topic2\", \"Topic2\", \"Topic2\", \"Topic2\", \"Topic2\", \"Topic2\", \"Topic2\", \"Topic2\", \"Topic2\", \"Topic2\", \"Topic2\", \"Topic2\", \"Topic2\", \"Topic2\", \"Topic2\", \"Topic2\", \"Topic2\", \"Topic2\", \"Topic2\", \"Topic2\", \"Topic2\", \"Topic2\", \"Topic2\", \"Topic2\", \"Topic2\", \"Topic2\", \"Topic2\", \"Topic2\", \"Topic2\", \"Topic2\", \"Topic2\", \"Topic2\", \"Topic2\", \"Topic2\", \"Topic2\", \"Topic2\", \"Topic2\", \"Topic2\", \"Topic2\", \"Topic2\", \"Topic2\", \"Topic2\", \"Topic3\", \"Topic3\", \"Topic3\", \"Topic3\", \"Topic3\", \"Topic3\", \"Topic3\", \"Topic3\", \"Topic3\", \"Topic3\", \"Topic3\", \"Topic3\", \"Topic3\", \"Topic3\", \"Topic3\", \"Topic3\", \"Topic3\", \"Topic3\", \"Topic3\", \"Topic3\", \"Topic3\", \"Topic3\", \"Topic3\", \"Topic3\", \"Topic3\", \"Topic3\", \"Topic3\", \"Topic3\", \"Topic3\", \"Topic3\", \"Topic3\", \"Topic3\", \"Topic3\", \"Topic3\", \"Topic3\", \"Topic3\", \"Topic3\", \"Topic3\", \"Topic3\", \"Topic3\", \"Topic3\", \"Topic3\", \"Topic3\", \"Topic3\", \"Topic3\", \"Topic3\", \"Topic3\", \"Topic3\", \"Topic3\", \"Topic3\", \"Topic3\", \"Topic3\", \"Topic3\", \"Topic3\", \"Topic3\", \"Topic3\", \"Topic3\", \"Topic3\", \"Topic3\", \"Topic3\", \"Topic4\", \"Topic4\", \"Topic4\", \"Topic4\", \"Topic4\", \"Topic4\", \"Topic4\", \"Topic4\", \"Topic4\", \"Topic4\", \"Topic4\", \"Topic4\", \"Topic4\", \"Topic4\", \"Topic4\", \"Topic4\", \"Topic4\", \"Topic4\", \"Topic4\", \"Topic4\", \"Topic4\", \"Topic4\", \"Topic4\", \"Topic4\", \"Topic4\", \"Topic4\", \"Topic4\", \"Topic4\", \"Topic4\", \"Topic4\", \"Topic4\", \"Topic4\", \"Topic4\", \"Topic4\", \"Topic4\", \"Topic4\", \"Topic4\", \"Topic4\", \"Topic4\", \"Topic4\", \"Topic4\", \"Topic4\", \"Topic4\", \"Topic4\", \"Topic4\", \"Topic4\", \"Topic4\", \"Topic4\", \"Topic4\", \"Topic4\", \"Topic4\", \"Topic4\", \"Topic4\", \"Topic4\", \"Topic4\", \"Topic4\", \"Topic5\", \"Topic5\", \"Topic5\", \"Topic5\", \"Topic5\", \"Topic5\", \"Topic5\", \"Topic5\", \"Topic5\", \"Topic5\", \"Topic5\", \"Topic5\", \"Topic5\", \"Topic5\", \"Topic5\", \"Topic5\", \"Topic5\", \"Topic5\", \"Topic5\", \"Topic5\", \"Topic5\", \"Topic5\", \"Topic5\", \"Topic5\", \"Topic5\", \"Topic5\", \"Topic5\", \"Topic5\", \"Topic5\", \"Topic5\", \"Topic5\", \"Topic5\", \"Topic5\", \"Topic5\", \"Topic5\", \"Topic5\", \"Topic5\", \"Topic5\", \"Topic5\", \"Topic5\", \"Topic5\", \"Topic5\", \"Topic5\", \"Topic5\", \"Topic5\", \"Topic5\", \"Topic5\", \"Topic5\", \"Topic5\", \"Topic5\"], \"Freq\": [526.0, 676.0, 442.0, 384.0, 233.0, 323.0, 331.0, 958.0, 224.0, 908.0, 489.0, 340.0, 206.0, 228.0, 147.0, 168.0, 239.0, 89.0, 177.0, 114.0, 272.0, 142.0, 199.0, 140.0, 365.0, 118.0, 208.0, 152.0, 173.0, 116.0, 526.095947265625, 227.69012451171875, 177.19842529296875, 116.77489471435547, 103.21343231201172, 89.92057037353516, 78.7077865600586, 69.27648162841797, 63.83742141723633, 62.6783332824707, 55.939964294433594, 53.7464485168457, 54.505306243896484, 50.858489990234375, 48.721405029296875, 48.03157424926758, 46.190914154052734, 40.99271011352539, 37.64636993408203, 36.78434753417969, 36.73065185546875, 35.64609909057617, 34.12055206298828, 32.069881439208984, 32.09433364868164, 32.269718170166016, 31.424835205078125, 32.35385513305664, 31.52054214477539, 31.27729034423828, 72.89111328125, 109.70602416992188, 92.48506927490234, 67.73242950439453, 75.97990417480469, 560.22216796875, 148.14859008789062, 55.00162124633789, 98.18248748779297, 603.3655395507812, 171.83543395996094, 231.4824676513672, 82.86822509765625, 111.3677978515625, 278.8880615234375, 132.49147033691406, 141.6332244873047, 352.5694885253906, 224.47935485839844, 123.88593292236328, 180.48855590820312, 100.6207046508789, 140.69085693359375, 109.08055877685547, 105.65058898925781, 90.5867919921875, 132.06759643554688, 133.98097229003906, 110.44389343261719, 95.204345703125, 90.81155395507812, 206.16146850585938, 141.43931579589844, 115.3805923461914, 80.63458251953125, 77.3827133178711, 75.93614959716797, 63.40161895751953, 62.95648193359375, 61.351234436035156, 55.325687408447266, 54.09202575683594, 51.24106216430664, 51.47034454345703, 46.15639114379883, 43.2498779296875, 37.73305892944336, 37.208011627197266, 35.9098014831543, 35.9098014831543, 35.9098014831543, 34.09543991088867, 33.392452239990234, 50.02730941772461, 31.763704299926758, 31.56940460205078, 32.638389587402344, 31.183231353759766, 32.16636276245117, 25.55357551574707, 25.475444793701172, 371.7441101074219, 34.154258728027344, 312.1587829589844, 73.60015106201172, 356.2007751464844, 90.57183837890625, 201.5852508544922, 244.11233520507812, 523.1534423828125, 177.67271423339844, 189.0679473876953, 98.51555633544922, 248.66049194335938, 72.28486633300781, 266.5304870605469, 227.61141967773438, 142.44586181640625, 77.0276870727539, 160.0493927001953, 110.53329467773438, 168.26841735839844, 136.19976806640625, 104.11283874511719, 111.34186553955078, 117.13429260253906, 156.48179626464844, 86.00593566894531, 88.22439575195312, 84.34635162353516, 146.81602478027344, 113.93911743164062, 76.23004150390625, 68.43883514404297, 68.25463104248047, 52.2367057800293, 47.909549713134766, 64.07491302490234, 40.30323791503906, 41.192195892333984, 37.42170715332031, 34.12493133544922, 33.92369079589844, 34.32636642456055, 35.47465515136719, 27.330673217773438, 26.558515548706055, 23.533597946166992, 22.54286003112793, 21.724346160888672, 22.070354461669922, 20.215389251708984, 20.215389251708984, 18.124000549316406, 17.48326873779297, 17.60551643371582, 17.29488182067871, 16.992902755737305, 15.433150291442871, 15.110898971557617, 159.7177276611328, 20.47703742980957, 255.98614501953125, 95.4610595703125, 27.207094192504883, 140.66392517089844, 47.0576286315918, 70.38848114013672, 36.31979751586914, 60.28038024902344, 70.80992126464844, 40.09222412109375, 37.2513427734375, 138.46336364746094, 115.88316345214844, 105.24671936035156, 62.787593841552734, 75.55250549316406, 105.74882507324219, 75.9691162109375, 114.37178802490234, 115.8384017944336, 65.49577331542969, 88.31281280517578, 77.39847564697266, 82.72329711914062, 76.17538452148438, 76.2258071899414, 70.40738677978516, 59.639591217041016, 67.77366638183594, 48.03390884399414, 37.08017349243164, 35.737117767333984, 31.91828155517578, 30.733409881591797, 30.55727195739746, 29.24005699157715, 28.81965446472168, 28.81965446472168, 28.81965446472168, 28.81965446472168, 28.81965446472168, 28.81965446472168, 28.81965446472168, 28.81965446472168, 28.81965446472168, 28.81965446472168, 26.576759338378906, 26.15597152709961, 26.15597152709961, 26.15597152709961, 28.981943130493164, 25.503719329833984, 23.502578735351562, 21.654470443725586, 21.654470443725586, 21.654470443725586, 19.31689453125, 17.756174087524414, 289.2579345703125, 44.50601577758789, 72.23497009277344, 77.13290405273438, 141.58164978027344, 43.984397888183594, 82.8740463256836, 38.210289001464844, 42.7041130065918, 105.19962310791016, 129.53709411621094, 60.73614501953125, 56.52449417114258, 42.977508544921875, 74.18997192382812, 50.73173141479492, 46.773441314697266, 32.66215133666992, 49.4739990234375, 36.792728424072266, 42.28803634643555, 42.93197250366211, 39.582645416259766, 39.56852722167969, 34.96565628051758, 33.381683349609375, 89.00508117675781, 50.308860778808594, 54.63539123535156, 42.1375846862793, 37.44938278198242, 37.39834213256836, 33.05598831176758, 31.724748611450195, 27.856201171875, 27.78356170654297, 27.78356170654297, 26.702545166015625, 25.264236450195312, 23.39798927307129, 23.16383171081543, 22.238183975219727, 22.235130310058594, 21.73525047302246, 21.552261352539062, 21.30153465270996, 20.864328384399414, 20.256305694580078, 19.791967391967773, 19.381725311279297, 17.95777130126953, 17.358234405517578, 17.225069046020508, 17.263717651367188, 16.994049072265625, 16.919715881347656, 27.027488708496094, 24.57199478149414, 146.41598510742188, 112.27782440185547, 66.72700500488281, 51.497432708740234, 72.09599304199219, 80.8874282836914, 37.38481903076172, 54.2639274597168, 60.49763488769531, 24.097782135009766, 39.56742858886719, 43.063114166259766, 54.97257995605469, 52.18598556518555, 30.906463623046875, 42.926170349121094, 40.13859558105469, 27.067045211791992], \"Term\": [\"genie\", \"order\", \"would\", \"intent\", \"request\", \"error\", \"group\", \"offer\", \"response\", \"account\", \"call\", \"datum\", \"accept\", \"mini\", \"activation\", \"message\", \"service\", \"success\", \"upgrade\", \"activate\", \"section\", \"proposition\", \"issue\", \"session\", \"rio\", \"name\", \"exist\", \"get\", \"shopping_cart\", \"member\", \"genie\", \"mini\", \"upgrade\", \"dws\", \"om\", \"loyalty\", \"base_package\", \"place\", \"dnis\", \"fee\", \"prerequisite\", \"ultimate\", \"confirm\", \"charge\", \"premier\", \"heart\", \"protection_plan\", \"sale\", \"reg\", \"punchin\", \"price\", \"history\", \"minis\", \"yes_impact\", \"option\", \"hd\", \"summary_execution\", \"wireless\", \"confirmation\", \"install\", \"evidence\", \"hardware\", \"free\", \"tvs\", \"stms\", \"order\", \"page\", \"additional\", \"programming\", \"account\", \"receiver\", \"customer\", \"active\", \"equipment\", \"select\", \"exist\", \"service\", \"offer\", \"click\", \"information\", \"test\", \"add\", \"expect\", \"tab\", \"attach\", \"submit\", \"display\", \"result\", \"actual\", \"value\", \"step\", \"accept\", \"proposition\", \"member\", \"look\", \"window\", \"acc\", \"debug\", \"vrtnbase\", \"comm\", \"top\", \"mo\", \"displaytop\", \"trigger\", \"adesqartdgroupa\", \"proactive\", \"final\", \"dispaly\", \"manual_mode\", \"login_care\", \"acc_hyper\", \"agent_desk\", \"reproducible_ye\", \"ppv\", \"position\", \"sourcesystem_transaction\", \"disposition\", \"screens_shot\", \"throw\", \"execute\", \"adesqartdgroupb\", \"intent\", \"adeace\", \"group\", \"rcp\", \"call\", \"save\", \"section\", \"rio\", \"offer\", \"button\", \"search\", \"able\", \"display\", \"agent\", \"click\", \"result\", \"system\", \"file\", \"expect\", \"response\", \"select\", \"step\", \"reproduce\", \"value\", \"actual\", \"account\", \"xml\", \"tab\", \"request\", \"activation\", \"activate\", \"address\", \"oli\", \"screen\", \"report\", \"email\", \"additional_info\", \"tat\", \"close\", \"cancel\", \"fstp\", \"activity\", \"copy\", \"commitment\", \"impacted_object\", \"detailed_description\", \"swap_replace\", \"serial\", \"allow\", \"web\", \"please_contact\", \"administrator\", \"wo\", \"validation\", \"override\", \"receive\", \"opt\", \"state\", \"blank\", \"message\", \"parameter\", \"error\", \"run\", \"come\", \"issue\", \"replace\", \"package\", \"field\", \"verify\", \"follow\", \"fail\", \"populate\", \"datum\", \"new\", \"login\", \"detail\", \"create\", \"step\", \"exist\", \"result\", \"order\", \"add\", \"test\", \"actual\", \"display\", \"expect\", \"click\", \"select\", \"attach\", \"net\", \"httpccr\", \"prioritize\", \"source\", \"net_clr\", \"internet_explorer\", \"ade_real\", \"pc\", \"useragent\", \"windows_nt\", \"media_center\", \"mozilla\", \"browser_microsoft\", \"infopath\", \"visit\", \"trident\", \"slcc\", \"compatible_msie\", \"scart\", \"jsessionid\", \"host_name\", \"asset_count\", \"notice\", \"access_card\", \"mysalesforcecom\", \"cswap\", \"creceiverleas\", \"rcp_build\", \"plan\", \"comm_event\", \"would\", \"transaction\", \"application\", \"session\", \"datum\", \"icon\", \"shopping_cart\", \"primary\", \"access\", \"test\", \"account\", \"launch\", \"system\", \"decline\", \"offer\", \"section\", \"login\", \"decision\", \"call\", \"name\", \"rio\", \"select\", \"customer\", \"click\", \"step\", \"result\", \"success\", \"ns\", \"rank\", \"paramkvpair\", \"xmlnsns\", \"version\", \"ei\", \"ms\", \"mcp\", \"ms_total\", \"self_time\", \"gpi\", \"letter\", \"rd\", \"indicate\", \"severity\", \"tv_fee\", \"org\", \"codeoffer\", \"release\", \"appropriate_bulk\", \"httpwwww\", \"project\", \"match\", \"rel\", \"originator\", \"bulkfreetvs\", \"datastate\", \"eligible_action\", \"retryallow\", \"category\", \"tldb\", \"request\", \"response\", \"name\", \"time\", \"get\", \"service\", \"bulk\", \"code\", \"value\", \"text\", \"detail\", \"xml\", \"call\", \"would\", \"return\", \"test\", \"error\", \"case\"], \"Total\": [526.0, 676.0, 442.0, 384.0, 233.0, 323.0, 331.0, 958.0, 224.0, 908.0, 489.0, 340.0, 206.0, 228.0, 147.0, 168.0, 239.0, 89.0, 177.0, 114.0, 272.0, 142.0, 199.0, 140.0, 365.0, 118.0, 208.0, 152.0, 173.0, 116.0, 526.8116455078125, 228.39572143554688, 177.9154052734375, 117.47940826416016, 103.92861938476562, 90.64099884033203, 79.42105865478516, 69.99108123779297, 64.54170227050781, 63.39071273803711, 56.65644836425781, 54.4583625793457, 55.233150482177734, 51.572811126708984, 49.426246643066406, 48.737186431884766, 46.901363372802734, 41.71253204345703, 38.3524169921875, 37.488765716552734, 37.460044860839844, 36.37661361694336, 34.85695266723633, 32.774288177490234, 32.80024719238281, 32.981117248535156, 32.12917709350586, 33.0817985534668, 32.23341751098633, 31.99049949645996, 74.64878845214844, 113.52718353271484, 95.62419128417969, 69.9068374633789, 78.62652587890625, 676.5858154296875, 173.56834411621094, 59.5888557434082, 114.9361343383789, 908.5855712890625, 240.6969451904297, 351.5282897949219, 101.57921600341797, 149.5219268798828, 560.6177978515625, 208.9678955078125, 239.95541381835938, 958.9411010742188, 606.9253540039062, 222.9833221435547, 441.2291259765625, 177.65771484375, 394.1820068359375, 230.95643615722656, 214.2421875, 146.07931518554688, 490.7509460449219, 524.337646484375, 317.08966064453125, 277.2444152832031, 367.8501892089844, 206.85679626464844, 142.09939575195312, 116.04255676269531, 81.30419158935547, 78.0436019897461, 76.60791778564453, 64.06047821044922, 63.61616516113281, 62.013038635253906, 55.9854621887207, 54.75779342651367, 51.901451110839844, 52.135799407958984, 46.81497573852539, 43.913394927978516, 38.396297454833984, 37.86772537231445, 36.567989349365234, 36.567989349365234, 36.567989349365234, 34.753604888916016, 34.05062484741211, 51.029541015625, 32.42359161376953, 32.22765350341797, 33.327362060546875, 31.84149742126465, 32.860252380371094, 26.21695327758789, 26.13789939880371, 384.8447570800781, 35.10945129394531, 331.57440185546875, 77.37346649169922, 489.7164306640625, 106.95476531982422, 272.8387756347656, 365.68853759765625, 958.9411010742188, 263.20587158203125, 291.3777160644531, 131.3370361328125, 490.7509460449219, 96.05659484863281, 606.9253540039062, 524.337646484375, 270.9017028808594, 107.4098892211914, 394.1820068359375, 224.0321807861328, 560.6177978515625, 367.8501892089844, 229.85084533691406, 277.2444152832031, 317.08966064453125, 908.5855712890625, 168.74203491210938, 230.95643615722656, 233.02456665039062, 147.48182678222656, 114.59461212158203, 76.8880615234375, 69.0749282836914, 68.9158935546875, 52.89213180541992, 48.56788635253906, 64.95543670654297, 40.93965530395508, 41.86347198486328, 38.07477951049805, 34.762359619140625, 34.5649528503418, 34.977073669433594, 36.15407180786133, 28.004934310913086, 27.236865997314453, 24.18425941467285, 23.178682327270508, 22.377273559570312, 22.76007843017578, 20.873594284057617, 20.873594284057617, 18.768352508544922, 18.12199592590332, 18.256324768066406, 17.939218521118164, 17.63767433166504, 16.07936668395996, 15.760252952575684, 168.8291015625, 21.548965454101562, 323.88995361328125, 118.15955352783203, 29.574602127075195, 199.9180450439453, 56.8206901550293, 93.0682373046875, 45.68409729003906, 92.71723175048828, 116.79259490966797, 53.19288635253906, 48.471397399902344, 340.948974609375, 271.48394775390625, 244.6714324951172, 124.75016784667969, 184.9731903076172, 367.8501892089844, 208.9678955078125, 524.337646484375, 676.5858154296875, 177.65771484375, 441.2291259765625, 317.08966064453125, 490.7509460449219, 394.1820068359375, 606.9253540039062, 560.6177978515625, 214.2421875, 68.43726348876953, 48.72970962524414, 37.7461051940918, 36.382877349853516, 32.559383392333984, 31.37588119506836, 31.20365333557129, 29.881656646728516, 29.460901260375977, 29.460901260375977, 29.460901260375977, 29.460901260375977, 29.460901260375977, 29.460901260375977, 29.460901260375977, 29.460901260375977, 29.460901260375977, 29.460901260375977, 27.218137741088867, 26.79734230041504, 26.79734230041504, 26.79734230041504, 29.693756103515625, 26.155780792236328, 24.14392852783203, 22.296539306640625, 22.296539306640625, 22.296539306640625, 19.958913803100586, 18.399015426635742, 442.302001953125, 59.67139434814453, 121.29332733154297, 140.321044921875, 340.948974609375, 62.4547004699707, 173.87124633789062, 51.57175064086914, 69.04969787597656, 441.2291259765625, 908.5855712890625, 170.5584259033203, 270.9017028808594, 113.22906494140625, 958.9411010742188, 272.8387756347656, 244.6714324951172, 50.936920166015625, 489.7164306640625, 118.60616302490234, 365.68853759765625, 560.6177978515625, 351.5282897949219, 606.9253540039062, 367.8501892089844, 524.337646484375, 89.72687530517578, 51.0256462097168, 55.421348571777344, 42.8543701171875, 38.16618347167969, 38.1197395324707, 33.77851104736328, 32.443634033203125, 28.574302673339844, 28.501127243041992, 28.501127243041992, 27.4212646484375, 26.000822067260742, 24.115676879882812, 23.882322311401367, 22.957487106323242, 22.959278106689453, 22.452787399291992, 22.270530700683594, 22.02381706237793, 21.582843780517578, 20.97348976135254, 20.514707565307617, 20.13729476928711, 18.675827026367188, 18.075183868408203, 17.943330764770508, 17.9840030670166, 17.714744567871094, 17.640178680419922, 28.757469177246094, 26.657066345214844, 233.02456665039062, 224.0321807861328, 118.60616302490234, 84.54350280761719, 152.96835327148438, 239.95541381835938, 65.91487121582031, 142.23880004882812, 277.2444152832031, 30.29142951965332, 124.75016784667969, 168.74203491210938, 489.7164306640625, 442.302001953125, 86.05931091308594, 441.2291259765625, 323.88995361328125, 66.23480224609375], \"loglift\": [30.0, 29.0, 28.0, 27.0, 26.0, 25.0, 24.0, 23.0, 22.0, 21.0, 20.0, 19.0, 18.0, 17.0, 16.0, 15.0, 14.0, 13.0, 12.0, 11.0, 10.0, 9.0, 8.0, 7.0, 6.0, 5.0, 4.0, 3.0, 2.0, 1.0, 1.1576999425888062, 1.156000018119812, 1.1550999879837036, 1.1531000137329102, 1.1521999835968018, 1.1511000394821167, 1.1500999927520752, 1.148800015449524, 1.1481000185012817, 1.1477999687194824, 1.146399974822998, 1.145900011062622, 1.145799994468689, 1.1452000141143799, 1.144700050354004, 1.1445000171661377, 1.1438000202178955, 1.141700029373169, 1.1404999494552612, 1.1401000022888184, 1.1394000053405762, 1.138800024986267, 1.1377999782562256, 1.1374000310897827, 1.1374000310897827, 1.1373000144958496, 1.1368999481201172, 1.1368999481201172, 1.1367000341415405, 1.1366000175476074, 1.1353000402450562, 1.124899983406067, 1.1256999969482422, 1.127500057220459, 1.124899983406067, 0.9703999757766724, 1.0008000135421753, 1.0789999961853027, 1.0016000270843506, 0.7497000098228455, 0.8220999836921692, 0.7412999868392944, 0.9555000066757202, 0.8644999861717224, 0.4609000086784363, 0.7034000158309937, 0.6319000124931335, 0.15850000083446503, 0.16449999809265137, 0.571399986743927, 0.2651999890804291, 0.5906000137329102, 0.12890000641345978, 0.4090000092983246, 0.45210000872612, 0.6812999844551086, -0.1535000056028366, -0.2053000032901764, 0.10440000146627426, 0.09019999951124191, -0.23980000615119934, 1.31850004196167, 1.317199945449829, 1.3162000179290771, 1.313599944114685, 1.3134000301361084, 1.313099980354309, 1.3115999698638916, 1.3114999532699585, 1.3112000226974487, 1.309999942779541, 1.3097000122070312, 1.3091000318527222, 1.3091000318527222, 1.3077000379562378, 1.3066999912261963, 1.3044999837875366, 1.3042999505996704, 1.3036999702453613, 1.3036999702453613, 1.3036999702453613, 1.3028000593185425, 1.30239999294281, 1.3020999431610107, 1.301300048828125, 1.301300048828125, 1.3009999990463257, 1.3009999990463257, 1.3006000518798828, 1.2963000535964966, 1.2962000370025635, 1.2872999906539917, 1.2942999601364136, 1.2616000175476074, 1.2719000577926636, 1.003600001335144, 1.1555999517440796, 1.0191999673843384, 0.9178000092506409, 0.7159000039100647, 0.9289000034332275, 0.8894000053405762, 1.0343999862670898, 0.6420999765396118, 1.037600040435791, 0.49900001287460327, 0.48739999532699585, 0.679099977016449, 0.9894000291824341, 0.4205999970436096, 0.6154000163078308, 0.11840000003576279, 0.32839998602867126, 0.5299000144004822, 0.40959998965263367, 0.32600000500679016, -0.43700000643730164, 0.6478999853134155, 0.3596000075340271, 0.30570000410079956, 1.715000033378601, 1.7137000560760498, 1.7108999490737915, 1.7101999521255493, 1.7098000049591064, 1.7070000171661377, 1.7058000564575195, 1.7058000564575195, 1.7037999629974365, 1.7032999992370605, 1.7022000551223755, 1.7009999752044678, 1.7007999420166016, 1.700700044631958, 1.7005000114440918, 1.695099949836731, 1.6943000555038452, 1.692199945449829, 1.6916999816894531, 1.6899000406265259, 1.6886999607086182, 1.687399983406067, 1.687399983406067, 1.684499979019165, 1.6835999488830566, 1.6832000017166138, 1.6828999519348145, 1.6821999549865723, 1.6785000562667847, 1.67739999294281, 1.6640000343322754, 1.6684999465942383, 1.4842000007629395, 1.5061999559402466, 1.6360000371932983, 1.367900013923645, 1.531000018119812, 1.4401999711990356, 1.4901000261306763, 1.2889000177383423, 1.219099998474121, 1.4366999864578247, 1.4562000036239624, 0.8184000253677368, 0.8682000041007996, 0.8758999705314636, 1.0328999757766724, 0.8241000175476074, 0.47290000319480896, 0.7075999975204468, 0.19679999351501465, -0.04540000110864639, 0.7215999960899353, 0.11079999804496765, 0.3093000054359436, -0.061000000685453415, 0.07569999992847443, -0.35519999265670776, -0.35530000925064087, 0.4406999945640564, 1.9866000413894653, 1.9819999933242798, 1.978600025177002, 1.9785000085830688, 1.9765000343322754, 1.9757000207901, 1.9754999876022339, 1.9746999740600586, 1.9744000434875488, 1.9744000434875488, 1.9744000434875488, 1.9744000434875488, 1.9744000434875488, 1.9744000434875488, 1.9744000434875488, 1.9744000434875488, 1.9744000434875488, 1.9744000434875488, 1.972499966621399, 1.9722000360488892, 1.9722000360488892, 1.9722000360488892, 1.972100019454956, 1.9710999727249146, 1.969499945640564, 1.9672000408172607, 1.9672000408172607, 1.9672000408172607, 1.9637000560760498, 1.960800051689148, 1.5716999769210815, 1.7031999826431274, 1.4780999422073364, 1.3980000019073486, 1.1174999475479126, 1.645799994468689, 1.2553999423980713, 1.6964999437332153, 1.5159000158309937, 0.5626999735832214, 0.048500001430511475, 0.9639000296592712, 0.4293000102043152, 1.0276999473571777, -0.5627999901771545, 0.3140999972820282, 0.3418000042438507, 1.5520000457763672, -0.29600000381469727, 0.8259000182151794, -0.16089999675750732, -0.5730000138282776, -0.1875, -0.734000027179718, -0.35690000653266907, -0.7577000260353088, 2.249300003051758, 2.2432000637054443, 2.2430999279022217, 2.240499973297119, 2.2383999824523926, 2.238300085067749, 2.23580002784729, 2.234999895095825, 2.2318999767303467, 2.2318999767303467, 2.2318999767303467, 2.230799913406372, 2.2286999225616455, 2.2272000312805176, 2.226799964904785, 2.225600004196167, 2.2253000736236572, 2.224900007247925, 2.224600076675415, 2.2239999771118164, 2.2235000133514404, 2.222599983215332, 2.2214999198913574, 2.2191998958587646, 2.2181999683380127, 2.216900110244751, 2.2165000438690186, 2.2165000438690186, 2.21589994430542, 2.2156999111175537, 2.1953999996185303, 2.1758999824523926, 1.7927000522613525, 1.56659996509552, 1.6821999549865723, 1.7617000341415405, 1.5052000284194946, 1.1699999570846558, 1.6902999877929688, 1.2936999797821045, 0.7350999712944031, 2.028599977493286, 1.1090999841690063, 0.891700029373169, 0.07039999961853027, 0.12020000070333481, 1.233299970626831, -0.07270000129938126, 0.16930000483989716, 1.3624999523162842], \"logprob\": [30.0, 29.0, 28.0, 27.0, 26.0, 25.0, 24.0, 23.0, 22.0, 21.0, 20.0, 19.0, 18.0, 17.0, 16.0, 15.0, 14.0, 13.0, 12.0, 11.0, 10.0, 9.0, 8.0, 7.0, 6.0, 5.0, 4.0, 3.0, 2.0, 1.0, -3.251300096511841, -4.088799953460693, -4.3394999504089355, -4.7565999031066895, -4.880000114440918, -5.017899990081787, -5.151100158691406, -5.27869987487793, -5.360499858856201, -5.378799915313721, -5.492499828338623, -5.53249979019165, -5.518499851226807, -5.587800025939941, -5.63070011138916, -5.644899845123291, -5.684000015258789, -5.803400039672852, -5.888599872589111, -5.9116997718811035, -5.9131999015808105, -5.94320011138916, -5.9868998527526855, -6.048900127410889, -6.048099994659424, -6.042699813842773, -6.069200038909912, -6.04010009765625, -6.066199779510498, -6.07390022277832, -5.227799892425537, -4.818999767303467, -4.989799976348877, -5.301199913024902, -5.186299800872803, -3.188499927520752, -4.518599987030029, -5.509399890899658, -4.929999828338623, -3.114300012588501, -4.370299816131592, -4.072299957275391, -5.0995001792907715, -4.803999900817871, -3.885999917984009, -4.630300045013428, -4.563600063323975, -3.651599884033203, -4.103000164031982, -4.697400093078613, -4.321100234985352, -4.905399799346924, -4.570199966430664, -4.824699878692627, -4.8566999435424805, -5.010499954223633, -4.633500099182129, -4.619100093841553, -4.812300205230713, -4.9608001708984375, -5.007999897003174, -4.025300025939941, -4.402100086212158, -4.605800151824951, -4.964099884033203, -5.005199909210205, -5.024099826812744, -5.204500198364258, -5.211599826812744, -5.237400054931641, -5.340799808502197, -5.36329984664917, -5.417500019073486, -5.413000106811523, -5.521999835968018, -5.586999893188477, -5.723499774932861, -5.737500190734863, -5.7729997634887695, -5.7729997634887695, -5.7729997634887695, -5.82480001449585, -5.845699787139893, -5.441400051116943, -5.895699977874756, -5.901800155639648, -5.868500232696533, -5.914100170135498, -5.8831000328063965, -6.1132001876831055, -6.116300106048584, -3.435800075531006, -5.8231000900268555, -3.6105000972747803, -5.0553998947143555, -3.4784998893737793, -4.847899913787842, -4.047800064086914, -3.8564000129699707, -3.094099998474121, -4.174099922180176, -4.1118998527526855, -4.763800144195557, -3.837899923324585, -5.073400020599365, -3.7685000896453857, -3.9263999462127686, -4.394999980926514, -5.009799957275391, -4.278500080108643, -4.64870023727417, -4.228400230407715, -4.439899921417236, -4.708499908447266, -4.64139986038208, -4.590700149536133, -4.30109977722168, -4.899600028991699, -4.874100208282471, -4.919099807739258, -3.9672000408172607, -4.220799922943115, -4.622700214385986, -4.730500221252441, -4.7332000732421875, -5.0005998611450195, -5.087100028991699, -4.79640007019043, -5.260000228881836, -5.2382001876831055, -5.334199905395508, -5.426400184631348, -5.432300090789795, -5.420499801635742, -5.387599945068359, -5.648399829864502, -5.67710018157959, -5.797999858856201, -5.841000080108643, -5.877999782562256, -5.862199783325195, -5.949999809265137, -5.949999809265137, -6.059199810028076, -6.095200061798096, -6.088200092315674, -6.105999946594238, -6.123600006103516, -6.219900131225586, -6.241000175476074, -3.882999897003174, -5.937099933624268, -3.41129994392395, -4.39769983291626, -5.6529998779296875, -4.0100998878479, -5.105100154876709, -4.702400207519531, -5.364099979400635, -4.857399940490723, -4.696400165557861, -5.265200138092041, -5.338699817657471, -4.0258002281188965, -4.203800201416016, -4.300099849700928, -4.816699981689453, -4.6315999031066895, -4.295400142669678, -4.626100063323975, -4.2170000076293945, -4.20419979095459, -4.774400234222412, -4.475500106811523, -4.607500076293945, -4.540900230407715, -4.6234002113342285, -4.622700214385986, -4.702099800109863, -4.868100166320801, -4.4633002281188965, -4.807600021362305, -5.066400051116943, -5.103300094604492, -5.216300010681152, -5.254199981689453, -5.259900093078613, -5.303999900817871, -5.31850004196167, -5.31850004196167, -5.31850004196167, -5.31850004196167, -5.31850004196167, -5.31850004196167, -5.31850004196167, -5.31850004196167, -5.31850004196167, -5.31850004196167, -5.399499893188477, -5.41540002822876, -5.41540002822876, -5.41540002822876, -5.31279993057251, -5.440700054168701, -5.52239990234375, -5.604300022125244, -5.604300022125244, -5.604300022125244, -5.718500137329102, -5.802800178527832, -3.012200117111206, -4.883900165557861, -4.399600028991699, -4.334000110626221, -3.726599931716919, -4.895699977874756, -4.262199878692627, -5.036399841308594, -4.92519998550415, -4.02370023727417, -3.8155999183654785, -4.572999954223633, -4.644800186157227, -4.918799877166748, -4.372900009155273, -4.752999782562256, -4.834199905395508, -5.193299770355225, -4.77810001373291, -5.07420015335083, -4.934999942779541, -4.919899940490723, -5.001100063323975, -5.001500129699707, -5.125199794769287, -5.171500205993652, -3.929800033569336, -4.50029993057251, -4.417799949645996, -4.677599906921387, -4.795499801635742, -4.796899795532227, -4.920300006866455, -4.961400032043457, -5.0914998054504395, -5.094099998474121, -5.094099998474121, -5.133800029754639, -5.1890997886657715, -5.265900135040283, -5.275899887084961, -5.316699981689453, -5.316800117492676, -5.339600086212158, -5.3480000495910645, -5.3597002029418945, -5.380499839782715, -5.409999847412109, -5.433199882507324, -5.45419979095459, -5.5304999351501465, -5.5644001960754395, -5.5721001625061035, -5.569900035858154, -5.585599899291992, -5.590000152587891, -5.121699810028076, -5.216899871826172, -3.4321000576019287, -3.697499990463257, -4.217899799346924, -4.4770002365112305, -4.140500068664551, -4.0254998207092285, -4.7972002029418945, -4.424699783325195, -4.315899848937988, -5.236400127410889, -4.740499973297119, -4.655799865722656, -4.4116997718811035, -4.463699817657471, -4.987500190734863, -4.658999919891357, -4.726200103759766, -5.120200157165527]}, \"token.table\": {\"Topic\": [1, 2, 3, 4, 2, 2, 2, 3, 4, 4, 1, 2, 3, 4, 5, 3, 3, 1, 3, 4, 3, 1, 2, 3, 4, 1, 3, 4, 1, 5, 3, 3, 4, 2, 2, 2, 3, 1, 2, 4, 2, 3, 2, 3, 4, 5, 4, 1, 2, 3, 4, 5, 1, 3, 4, 1, 5, 5, 1, 2, 3, 4, 1, 2, 3, 4, 5, 3, 1, 3, 4, 5, 3, 5, 1, 1, 2, 3, 4, 3, 1, 3, 4, 5, 5, 2, 3, 2, 4, 3, 4, 1, 1, 3, 1, 2, 3, 4, 5, 4, 4, 1, 2, 4, 5, 5, 1, 2, 3, 4, 2, 4, 5, 2, 4, 1, 2, 3, 5, 3, 2, 1, 2, 3, 4, 2, 2, 1, 1, 5, 5, 3, 1, 2, 4, 2, 3, 5, 1, 3, 2, 1, 3, 1, 2, 3, 4, 3, 5, 1, 3, 4, 5, 1, 2, 5, 2, 2, 3, 4, 5, 1, 5, 3, 1, 1, 2, 3, 4, 5, 5, 2, 5, 1, 2, 1, 1, 1, 4, 4, 5, 3, 4, 3, 5, 4, 1, 2, 3, 4, 1, 2, 4, 4, 1, 2, 3, 4, 5, 4, 1, 2, 3, 4, 5, 1, 2, 3, 4, 2, 2, 1, 2, 5, 5, 4, 2, 2, 3, 4, 1, 1, 2, 4, 5, 5, 4, 1, 4, 5, 4, 4, 1, 2, 3, 4, 4, 5, 1, 2, 3, 4, 3, 1, 3, 1, 1, 3, 5, 5, 3, 1, 3, 1, 3, 1, 3, 5, 4, 1, 4, 3, 3, 5, 2, 2, 3, 1, 1, 1, 1, 3, 4, 4, 2, 1, 4, 5, 2, 1, 1, 5, 2, 4, 4, 5, 3, 1, 3, 4, 5, 1, 5, 5, 1, 3, 4, 3, 1, 2, 3, 4, 2, 2, 4, 5, 2, 4, 5, 1, 2, 3, 4, 5, 5, 2, 5, 1, 2, 3, 4, 3, 4, 1, 1, 2, 4, 3, 2, 1, 2, 3, 4, 1, 2, 4, 1, 2, 3, 4, 5, 3, 1, 3, 4, 5, 1, 4, 5, 2, 3, 4, 4, 4, 2, 3, 1, 2, 3, 4, 1, 3, 1, 3, 5, 1, 3, 2, 3, 4, 5, 1, 2, 3, 4, 3, 1, 2, 3, 4, 5, 3, 5, 2, 4, 5, 4, 5, 2, 4, 5, 4, 2, 5, 1, 5, 1, 1, 4, 3, 1, 2, 4, 5, 1, 2, 3, 5, 4, 2, 3, 2, 4, 1, 3, 1, 2, 3, 4, 5, 1, 2, 3, 5, 5, 1], \"Freq\": [0.06852598488330841, 0.7537858486175537, 0.1598939746618271, 0.02284199558198452, 0.9920645356178284, 0.9844675660133362, 0.9958580136299133, 0.3765403926372528, 0.622739851474762, 0.9940441250801086, 0.6636689305305481, 0.17169544100761414, 0.019811011850833893, 0.14307953417301178, 0.002201223513111472, 0.9948111772537231, 0.9967329502105713, 0.8170962929725647, 0.05906720086932182, 0.11813440173864365, 0.9836553335189819, 0.34690502285957336, 0.3689808249473572, 0.24283352494239807, 0.037844184786081314, 0.5685089230537415, 0.3658720850944519, 0.06191681697964668, 0.9229913949966431, 0.06712664663791656, 0.9852908849716187, 0.9884499311447144, 0.9934734106063843, 0.9684001803398132, 0.9825915694236755, 0.9564655423164368, 0.9581483602523804, 0.062463175505399704, 0.7495580911636353, 0.17697900533676147, 0.9783157706260681, 0.9831403493881226, 0.27206772565841675, 0.13191162049770355, 0.5936022996902466, 0.9729950428009033, 0.9702454805374146, 0.4947671592235565, 0.15403129160404205, 0.280056893825531, 0.0233380738645792, 0.05134376138448715, 0.9946984052658081, 0.9517613649368286, 0.9843555092811584, 0.42479032278060913, 0.5613300800323486, 0.9474272131919861, 0.10638060420751572, 0.676276683807373, 0.1405743658542633, 0.07598614692687988, 0.05717594549059868, 0.7269513010978699, 0.0020419980864971876, 0.10005790740251541, 0.11230989545583725, 0.9717718958854675, 0.07548901438713074, 0.362347275018692, 0.1358802318572998, 0.4076406955718994, 0.0347735732793808, 0.9388865232467651, 0.9888931512832642, 0.36907339096069336, 0.4399223029613495, 0.12522132694721222, 0.06590596586465836, 0.9793741106987, 0.3796432614326477, 0.21794334053993225, 0.021091291680932045, 0.3796432614326477, 0.9878525137901306, 0.06762558966875076, 0.9129455089569092, 0.9836640954017639, 0.9783132076263428, 0.9680790901184082, 0.9843555092811584, 0.9957787990570068, 0.9927585124969482, 0.9720653295516968, 0.3676208555698395, 0.0540618896484375, 0.41087034344673157, 0.09190521389245987, 0.08109283447265625, 0.9867002367973328, 0.9867002367973328, 0.6571305990219116, 0.20197521150112152, 0.11378885060548782, 0.025602491572499275, 0.9452845454216003, 0.07919073849916458, 0.09972167015075684, 0.404752641916275, 0.4164845943450928, 0.9834456443786621, 0.6478601098060608, 0.3533782660961151, 0.618215799331665, 0.3797611594200134, 0.1362723559141159, 0.04008010774850845, 0.5050093531608582, 0.3206408619880676, 0.9913035035133362, 0.9770853519439697, 0.26897552609443665, 0.5073856711387634, 0.16912855207920074, 0.05501772463321686, 0.982631504535675, 0.9901773929595947, 0.9916069507598877, 0.9959192276000977, 0.9769524931907654, 0.9596525430679321, 0.9883073568344116, 0.7423660159111023, 0.18057551980018616, 0.07356780767440796, 0.08336164802312851, 0.7903919219970703, 0.12349873781204224, 0.9779127240180969, 0.0133960647508502, 0.9917246699333191, 0.6316759586334229, 0.3636922240257263, 0.3577027916908264, 0.4059038758277893, 0.19280433654785156, 0.043127287179231644, 0.7519802451133728, 0.24439358711242676, 0.9938364624977112, 0.7880203723907471, 0.02188945561647415, 0.1751156449317932, 0.2606836259365082, 0.7168799638748169, 0.018620260059833527, 0.9896787405014038, 0.08562186360359192, 0.6079152822494507, 0.1541193574666977, 0.1541193574666977, 0.9620996117591858, 0.020915210247039795, 0.9780693650245667, 0.9984593391418457, 0.2745665907859802, 0.006537300068885088, 0.1765071004629135, 0.0719102993607521, 0.47068560123443604, 0.9846373200416565, 0.9409652948379517, 0.05730237439274788, 0.9689309597015381, 0.02642538957297802, 0.9702521562576294, 0.9848742485046387, 0.9896467924118042, 0.9702454805374146, 0.9850253462791443, 0.9535847306251526, 0.28820890188217163, 0.7045106291770935, 0.9641157984733582, 0.963055431842804, 0.9843555092811584, 0.5560954213142395, 0.3273787498474121, 0.004484640434384346, 0.1121160089969635, 0.9690377116203308, 0.9666235446929932, 0.03377985581755638, 0.9880200624465942, 0.22009018063545227, 0.02000819891691208, 0.7052890062332153, 0.04001639783382416, 0.01500614918768406, 0.9702454805374146, 0.011726186610758305, 0.3341963291168213, 0.2990177571773529, 0.35764870047569275, 0.96150803565979, 0.28201085329055786, 0.09809073060750961, 0.429146945476532, 0.1920943558216095, 0.9844675660133362, 0.9962586164474487, 0.992928147315979, 0.9844675660133362, 0.9435229897499084, 0.9799014329910278, 0.9843555092811584, 0.9910157322883606, 0.023692598566412926, 0.9477038979530334, 0.029615746811032295, 0.998267412185669, 0.9754151701927185, 0.9861609935760498, 0.9843555092811584, 0.9863259792327881, 0.9824172854423523, 0.9940387010574341, 0.1264689713716507, 0.3119567930698395, 0.5648947358131409, 0.9936107397079468, 0.9828196167945862, 0.33151131868362427, 0.1731225699186325, 0.4272812604904175, 0.06998572498559952, 0.9766362905502319, 0.9798994064331055, 0.3681143820285797, 0.5453932285308838, 0.009385352022945881, 0.07716844975948334, 0.9844382405281067, 0.9910648465156555, 0.9638459086418152, 0.975602388381958, 0.8276851177215576, 0.17144905030727386, 0.9798337817192078, 0.9405159950256348, 0.9859596490859985, 0.23638568818569183, 0.7521362900733948, 0.8526900410652161, 0.1440354883670807, 0.046405941247940063, 0.9281188249588013, 0.9800633788108826, 0.9704950451850891, 0.9858399033546448, 0.9519556164741516, 0.9581483602523804, 0.7633367776870728, 0.22693796455860138, 0.9869356751441956, 0.9798246026039124, 0.019596492871642113, 0.9913761019706726, 0.9884135127067566, 0.9877190589904785, 0.1357332170009613, 0.11634276062250137, 0.7368375062942505, 0.9802336096763611, 0.9792000651359558, 0.8526474237442017, 0.13920775055885315, 0.974910318851471, 0.9922631978988647, 0.9807817339897156, 0.9869623184204102, 0.9923973679542542, 0.9564002156257629, 0.038772981613874435, 0.9867002367973328, 0.953736424446106, 0.9476444125175476, 0.7145915627479553, 0.17449328303337097, 0.0747828334569931, 0.03739141672849655, 0.9908111095428467, 0.9638127684593201, 0.9535132050514221, 0.01759922318160534, 0.8271634578704834, 0.1407937854528427, 0.9831330180168152, 0.3741556704044342, 0.4524673521518707, 0.15227265655994415, 0.021753236651420593, 0.9691452383995056, 0.3604770004749298, 0.008582785725593567, 0.626543402671814, 0.4954645335674286, 0.004463644232600927, 0.49992817640304565, 0.2555605173110962, 0.4348343014717102, 0.2174171507358551, 0.06293654441833496, 0.028607521206140518, 0.9637090563774109, 0.6390941143035889, 0.3602166771888733, 0.20235799252986908, 0.667234480381012, 0.013672837987542152, 0.11485183984041214, 0.8039976358413696, 0.18618892133235931, 0.9829180240631104, 0.1495959460735321, 0.8508269786834717, 0.991985559463501, 0.9867099523544312, 0.973572313785553, 0.25739786028862, 0.6486425995826721, 0.010295914486050606, 0.08236731588840485, 0.07330336421728134, 0.7403639554977417, 0.1869235783815384, 0.49766525626182556, 0.29966941475868225, 0.12486225366592407, 0.0767010971903801, 0.9824172854423523, 0.9922910928726196, 0.5917766094207764, 0.012502322904765606, 0.0625116154551506, 0.3375627100467682, 0.4489704370498657, 0.5487416386604309, 0.9582930207252502, 0.3220773935317993, 0.20129838585853577, 0.477364718914032, 0.9843555092811584, 0.9894764423370361, 0.9929360747337341, 0.9328725337982178, 0.24738331139087677, 0.36971572041511536, 0.2881608009338379, 0.09514743089675903, 0.966594934463501, 0.025436708703637123, 0.6229492425918579, 0.37650778889656067, 0.9918990135192871, 0.9648550748825073, 0.9923810362815857, 0.5241753458976746, 0.1993342936038971, 0.21040841937065125, 0.0664447620511055, 0.4719504714012146, 0.38102424144744873, 0.043298207223415375, 0.10391569882631302, 0.9770478010177612, 0.407951295375824, 0.05439350754022598, 0.19944286346435547, 0.23797160387039185, 0.09745503216981888, 0.19807583093643188, 0.7923033237457275, 0.9738208651542664, 0.37850335240364075, 0.6032397150993347, 0.07502701133489609, 0.9378376603126526, 0.9823979139328003, 0.7541301846504211, 0.2513767182826996, 0.9843555092811584, 0.9782146215438843, 0.9582182765007019, 0.9727231860160828, 0.02860950492322445, 0.9915832281112671, 0.9948548078536987, 0.9843555092811584, 0.9380865097045898, 0.3426579535007477, 0.40036875009536743, 0.03606925532221794, 0.21641553938388824, 0.10785481333732605, 0.23728059232234955, 0.6471288800239563, 0.9706257581710815, 0.9843555092811584, 0.9903143048286438, 0.9666047692298889, 0.9866279363632202, 0.9843555092811584, 0.9672992825508118, 0.9590612649917603, 0.029391681775450706, 0.09269684553146362, 0.10626223683357239, 0.6533997058868408, 0.11756672710180283, 0.20149099826812744, 0.5096536874771118, 0.035557232797145844, 0.2548268437385559, 0.9694445729255676, 0.976375162601471], \"Term\": [\"able\", \"able\", \"able\", \"able\", \"acc\", \"acc_hyper\", \"accept\", \"access\", \"access\", \"access_card\", \"account\", \"account\", \"account\", \"account\", \"account\", \"activate\", \"activation\", \"active\", \"active\", \"active\", \"activity\", \"actual\", \"actual\", \"actual\", \"actual\", \"add\", \"add\", \"add\", \"additional\", \"additional\", \"additional_info\", \"address\", \"ade_real\", \"adeace\", \"adesqartdgroupa\", \"adesqartdgroupb\", \"administrator\", \"agent\", \"agent\", \"agent\", \"agent_desk\", \"allow\", \"application\", \"application\", \"application\", \"appropriate_bulk\", \"asset_count\", \"attach\", \"attach\", \"attach\", \"attach\", \"attach\", \"base_package\", \"blank\", \"browser_microsoft\", \"bulk\", \"bulk\", \"bulkfreetvs\", \"button\", \"button\", \"button\", \"button\", \"call\", \"call\", \"call\", \"call\", \"call\", \"cancel\", \"case\", \"case\", \"case\", \"case\", \"category\", \"category\", \"charge\", \"click\", \"click\", \"click\", \"click\", \"close\", \"code\", \"code\", \"code\", \"code\", \"codeoffer\", \"come\", \"come\", \"comm\", \"comm_event\", \"commitment\", \"compatible_msie\", \"confirm\", \"confirmation\", \"copy\", \"create\", \"create\", \"create\", \"create\", \"create\", \"creceiverleas\", \"cswap\", \"customer\", \"customer\", \"customer\", \"customer\", \"datastate\", \"datum\", \"datum\", \"datum\", \"datum\", \"debug\", \"decision\", \"decision\", \"decline\", \"decline\", \"detail\", \"detail\", \"detail\", \"detail\", \"detailed_description\", \"dispaly\", \"display\", \"display\", \"display\", \"display\", \"displaytop\", \"disposition\", \"dnis\", \"dws\", \"ei\", \"eligible_action\", \"email\", \"equipment\", \"equipment\", \"equipment\", \"error\", \"error\", \"error\", \"evidence\", \"evidence\", \"execute\", \"exist\", \"exist\", \"expect\", \"expect\", \"expect\", \"expect\", \"fail\", \"fail\", \"fee\", \"field\", \"field\", \"field\", \"file\", \"file\", \"file\", \"final\", \"follow\", \"follow\", \"follow\", \"follow\", \"free\", \"free\", \"fstp\", \"genie\", \"get\", \"get\", \"get\", \"get\", \"get\", \"gpi\", \"group\", \"group\", \"hardware\", \"hardware\", \"hd\", \"heart\", \"history\", \"host_name\", \"httpccr\", \"httpwwww\", \"icon\", \"icon\", \"impacted_object\", \"indicate\", \"infopath\", \"information\", \"information\", \"information\", \"information\", \"install\", \"intent\", \"intent\", \"internet_explorer\", \"issue\", \"issue\", \"issue\", \"issue\", \"issue\", \"jsessionid\", \"launch\", \"launch\", \"launch\", \"launch\", \"letter\", \"login\", \"login\", \"login\", \"login\", \"login_care\", \"look\", \"loyalty\", \"manual_mode\", \"match\", \"mcp\", \"media_center\", \"member\", \"message\", \"message\", \"message\", \"mini\", \"minis\", \"mo\", \"mozilla\", \"ms\", \"ms_total\", \"mysalesforcecom\", \"name\", \"name\", \"name\", \"net\", \"net_clr\", \"new\", \"new\", \"new\", \"new\", \"notice\", \"ns\", \"offer\", \"offer\", \"offer\", \"offer\", \"oli\", \"om\", \"opt\", \"option\", \"order\", \"order\", \"org\", \"originator\", \"override\", \"package\", \"package\", \"page\", \"page\", \"parameter\", \"parameter\", \"paramkvpair\", \"pc\", \"place\", \"plan\", \"please_contact\", \"populate\", \"populate\", \"position\", \"ppv\", \"ppv\", \"premier\", \"prerequisite\", \"price\", \"primary\", \"primary\", \"primary\", \"prioritize\", \"proactive\", \"programming\", \"programming\", \"project\", \"proposition\", \"protection_plan\", \"punchin\", \"rank\", \"rcp\", \"rcp\", \"rcp_build\", \"rd\", \"receive\", \"receiver\", \"receiver\", \"receiver\", \"receiver\", \"reg\", \"rel\", \"release\", \"replace\", \"replace\", \"replace\", \"report\", \"reproduce\", \"reproduce\", \"reproduce\", \"reproduce\", \"reproducible_ye\", \"request\", \"request\", \"request\", \"response\", \"response\", \"response\", \"result\", \"result\", \"result\", \"result\", \"result\", \"retryallow\", \"return\", \"return\", \"rio\", \"rio\", \"rio\", \"rio\", \"run\", \"run\", \"sale\", \"save\", \"save\", \"scart\", \"screen\", \"screens_shot\", \"search\", \"search\", \"search\", \"search\", \"section\", \"section\", \"section\", \"select\", \"select\", \"select\", \"select\", \"self_time\", \"serial\", \"service\", \"service\", \"service\", \"service\", \"session\", \"session\", \"severity\", \"shopping_cart\", \"shopping_cart\", \"shopping_cart\", \"slcc\", \"source\", \"sourcesystem_transaction\", \"state\", \"step\", \"step\", \"step\", \"step\", \"stms\", \"stms\", \"submit\", \"submit\", \"success\", \"summary_execution\", \"swap_replace\", \"system\", \"system\", \"system\", \"system\", \"tab\", \"tab\", \"tab\", \"tab\", \"tat\", \"test\", \"test\", \"test\", \"test\", \"test\", \"text\", \"text\", \"throw\", \"time\", \"time\", \"tldb\", \"tldb\", \"top\", \"transaction\", \"transaction\", \"trident\", \"trigger\", \"tv_fee\", \"tvs\", \"tvs\", \"ultimate\", \"upgrade\", \"useragent\", \"validation\", \"value\", \"value\", \"value\", \"value\", \"verify\", \"verify\", \"verify\", \"version\", \"visit\", \"vrtnbase\", \"web\", \"window\", \"windows_nt\", \"wireless\", \"wo\", \"would\", \"would\", \"would\", \"would\", \"would\", \"xml\", \"xml\", \"xml\", \"xml\", \"xmlnsns\", \"yes_impact\"]}, \"R\": 30, \"lambda.step\": 0.01, \"plot.opts\": {\"xlab\": \"PC1\", \"ylab\": \"PC2\"}, \"topic.order\": [5, 1, 2, 4, 3]};\n",
              "\n",
              "function LDAvis_load_lib(url, callback){\n",
              "  var s = document.createElement('script');\n",
              "  s.src = url;\n",
              "  s.async = true;\n",
              "  s.onreadystatechange = s.onload = callback;\n",
              "  s.onerror = function(){console.warn(\"failed to load library \" + url);};\n",
              "  document.getElementsByTagName(\"head\")[0].appendChild(s);\n",
              "}\n",
              "\n",
              "if(typeof(LDAvis) !== \"undefined\"){\n",
              "   // already loaded: just create the visualization\n",
              "   !function(LDAvis){\n",
              "       new LDAvis(\"#\" + \"ldavis_el1431401538709436003049029466\", ldavis_el1431401538709436003049029466_data);\n",
              "   }(LDAvis);\n",
              "}else if(typeof define === \"function\" && define.amd){\n",
              "   // require.js is available: use it to load d3/LDAvis\n",
              "   require.config({paths: {d3: \"https://cdnjs.cloudflare.com/ajax/libs/d3/3.5.5/d3.min\"}});\n",
              "   require([\"d3\"], function(d3){\n",
              "      window.d3 = d3;\n",
              "      LDAvis_load_lib(\"https://cdn.rawgit.com/bmabey/pyLDAvis/files/ldavis.v1.0.0.js\", function(){\n",
              "        new LDAvis(\"#\" + \"ldavis_el1431401538709436003049029466\", ldavis_el1431401538709436003049029466_data);\n",
              "      });\n",
              "    });\n",
              "}else{\n",
              "    // require.js not available: dynamically load d3 & LDAvis\n",
              "    LDAvis_load_lib(\"https://cdnjs.cloudflare.com/ajax/libs/d3/3.5.5/d3.min.js\", function(){\n",
              "         LDAvis_load_lib(\"https://cdn.rawgit.com/bmabey/pyLDAvis/files/ldavis.v1.0.0.js\", function(){\n",
              "                 new LDAvis(\"#\" + \"ldavis_el1431401538709436003049029466\", ldavis_el1431401538709436003049029466_data);\n",
              "            })\n",
              "         });\n",
              "}\n",
              "</script>"
            ],
            "text/plain": [
              "PreparedData(topic_coordinates=            Freq  cluster  topics         x         y\n",
              "topic                                                \n",
              "4      31.376616        1       1 -0.172347  0.058813\n",
              "0      26.662701        1       2 -0.068128 -0.204132\n",
              "1      17.915934        1       3 -0.071004  0.189707\n",
              "3      13.582479        1       4 -0.007208 -0.073168\n",
              "2      10.462269        1       5  0.318688  0.028780, topic_info=     Category        Freq              Term       Total  loglift  logprob\n",
              "term                                                                     \n",
              "392   Default  526.000000             genie  526.000000  30.0000  30.0000\n",
              "23    Default  676.000000             order  676.000000  29.0000  29.0000\n",
              "84    Default  442.000000             would  442.000000  28.0000  28.0000\n",
              "533   Default  384.000000            intent  384.000000  27.0000  27.0000\n",
              "70    Default  233.000000           request  233.000000  26.0000  26.0000\n",
              "63    Default  323.000000             error  323.000000  25.0000  25.0000\n",
              "93    Default  331.000000             group  331.000000  24.0000  24.0000\n",
              "67    Default  958.000000             offer  958.000000  23.0000  23.0000\n",
              "109   Default  224.000000          response  224.000000  22.0000  22.0000\n",
              "60    Default  908.000000           account  908.000000  21.0000  21.0000\n",
              "335   Default  489.000000              call  489.000000  20.0000  20.0000\n",
              "222   Default  340.000000             datum  340.000000  19.0000  19.0000\n",
              "159   Default  206.000000            accept  206.000000  18.0000  18.0000\n",
              "575   Default  228.000000              mini  228.000000  17.0000  17.0000\n",
              "46    Default  147.000000        activation  147.000000  16.0000  16.0000\n",
              "140   Default  168.000000           message  168.000000  15.0000  15.0000\n",
              "282   Default  239.000000           service  239.000000  14.0000  14.0000\n",
              "237   Default   89.000000           success   89.000000  13.0000  13.0000\n",
              "25    Default  177.000000           upgrade  177.000000  12.0000  12.0000\n",
              "45    Default  114.000000          activate  114.000000  11.0000  11.0000\n",
              "8     Default  272.000000           section  272.000000  10.0000  10.0000\n",
              "619   Default  142.000000       proposition  142.000000   9.0000   9.0000\n",
              "96    Default  199.000000             issue  199.000000   8.0000   8.0000\n",
              "876   Default  140.000000           session  140.000000   7.0000   7.0000\n",
              "179   Default  365.000000               rio  365.000000   6.0000   6.0000\n",
              "420   Default  118.000000              name  118.000000   5.0000   5.0000\n",
              "354   Default  208.000000             exist  208.000000   4.0000   4.0000\n",
              "186   Default  152.000000               get  152.000000   3.0000   3.0000\n",
              "654   Default  173.000000     shopping_cart  173.000000   2.0000   2.0000\n",
              "320   Default  116.000000            member  116.000000   1.0000   1.0000\n",
              "...       ...         ...               ...         ...      ...      ...\n",
              "2043   Topic5   20.864328  appropriate_bulk   21.582844   2.2235  -5.3805\n",
              "1981   Topic5   20.256306          httpwwww   20.973490   2.2226  -5.4100\n",
              "155    Topic5   19.791967           project   20.514708   2.2215  -5.4332\n",
              "632    Topic5   19.381725             match   20.137295   2.2192  -5.4542\n",
              "2637   Topic5   17.957771               rel   18.675827   2.2182  -5.5305\n",
              "1616   Topic5   17.358234        originator   18.075184   2.2169  -5.5644\n",
              "1296   Topic5   17.225069       bulkfreetvs   17.943331   2.2165  -5.5721\n",
              "1679   Topic5   17.263718         datastate   17.984003   2.2165  -5.5699\n",
              "789    Topic5   16.994049   eligible_action   17.714745   2.2159  -5.5856\n",
              "2085   Topic5   16.919716        retryallow   17.640179   2.2157  -5.5900\n",
              "496    Topic5   27.027489          category   28.757469   2.1954  -5.1217\n",
              "1301   Topic5   24.571995              tldb   26.657066   2.1759  -5.2169\n",
              "70     Topic5  146.415985           request  233.024567   1.7927  -3.4321\n",
              "109    Topic5  112.277824          response  224.032181   1.5666  -3.6975\n",
              "420    Topic5   66.727005              name  118.606163   1.6822  -4.2179\n",
              "111    Topic5   51.497433              time   84.543503   1.7617  -4.4770\n",
              "186    Topic5   72.095993               get  152.968353   1.5052  -4.1405\n",
              "282    Topic5   80.887428           service  239.955414   1.1700  -4.0255\n",
              "13     Topic5   37.384819              bulk   65.914871   1.6903  -4.7972\n",
              "55     Topic5   54.263927              code  142.238800   1.2937  -4.4247\n",
              "100    Topic5   60.497635             value  277.244415   0.7351  -4.3159\n",
              "144    Topic5   24.097782              text   30.291430   2.0286  -5.2364\n",
              "223    Topic5   39.567429            detail  124.750168   1.1091  -4.7405\n",
              "112    Topic5   43.063114               xml  168.742035   0.8917  -4.6558\n",
              "335    Topic5   54.972580              call  489.716431   0.0704  -4.4117\n",
              "84     Topic5   52.185986             would  442.302002   0.1202  -4.4637\n",
              "250    Topic5   30.906464            return   86.059311   1.2333  -4.9875\n",
              "134    Topic5   42.926170              test  441.229126  -0.0727  -4.6590\n",
              "63     Topic5   40.138596             error  323.889954   0.1693  -4.7262\n",
              "404    Topic5   27.067045              case   66.234802   1.3625  -5.1202\n",
              "\n",
              "[316 rows x 6 columns], token_table=      Topic      Freq         Term\n",
              "term                              \n",
              "59        1  0.068526         able\n",
              "59        2  0.753786         able\n",
              "59        3  0.159894         able\n",
              "59        4  0.022842         able\n",
              "828       2  0.992065          acc\n",
              "925       2  0.984468    acc_hyper\n",
              "159       2  0.995858       accept\n",
              "348       3  0.376540       access\n",
              "348       4  0.622740       access\n",
              "776       4  0.994044  access_card\n",
              "60        1  0.663669      account\n",
              "60        2  0.171695      account\n",
              "60        3  0.019811      account\n",
              "60        4  0.143080      account\n",
              "60        5  0.002201      account\n",
              "45        3  0.994811     activate\n",
              "46        3  0.996733   activation\n",
              "547       1  0.817096       active\n",
              "547       3  0.059067       active\n",
              "547       4  0.118134       active\n",
              "101       3  0.983655     activity\n",
              "161       1  0.346905       actual\n",
              "161       2  0.368981       actual\n",
              "161       3  0.242834       actual\n",
              "161       4  0.037844       actual\n",
              "11        1  0.568509          add\n",
              "11        3  0.365872          add\n",
              "11        4  0.061917          add\n",
              "729       1  0.922991   additional\n",
              "729       5  0.067127   additional\n",
              "...     ...       ...          ...\n",
              "1553      1  0.991583     ultimate\n",
              "25        1  0.994855      upgrade\n",
              "1139      4  0.984356    useragent\n",
              "219       3  0.938087   validation\n",
              "100       1  0.342658        value\n",
              "100       2  0.400369        value\n",
              "100       4  0.036069        value\n",
              "100       5  0.216416        value\n",
              "360       1  0.107855       verify\n",
              "360       2  0.237281       verify\n",
              "360       3  0.647129       verify\n",
              "588       5  0.970626      version\n",
              "1141      4  0.984356        visit\n",
              "1240      2  0.990314     vrtnbase\n",
              "207       3  0.966605          web\n",
              "262       2  0.986628       window\n",
              "1143      4  0.984356   windows_nt\n",
              "1276      1  0.967299     wireless\n",
              "362       3  0.959061           wo\n",
              "84        1  0.029392        would\n",
              "84        2  0.092697        would\n",
              "84        3  0.106262        would\n",
              "84        4  0.653400        would\n",
              "84        5  0.117567        would\n",
              "112       1  0.201491          xml\n",
              "112       2  0.509654          xml\n",
              "112       3  0.035557          xml\n",
              "112       5  0.254827          xml\n",
              "1996      5  0.969445      xmlnsns\n",
              "1440      1  0.976375   yes_impact\n",
              "\n",
              "[426 rows x 3 columns], R=30, lambda_step=0.01, plot_opts={'xlab': 'PC1', 'ylab': 'PC2'}, topic_order=[5, 1, 2, 4, 3])"
            ]
          },
          "metadata": {
            "tags": []
          },
          "execution_count": 35
        }
      ]
    }
  ]
}